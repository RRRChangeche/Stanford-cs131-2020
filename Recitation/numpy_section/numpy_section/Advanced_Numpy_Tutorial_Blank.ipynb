{
  "cells": [
    {
      "cell_type": "markdown",
      "metadata": {
        "id": "pQhk2dHpULR5"
      },
      "source": [
        "# Quick and Dirty Guide To Numpy\n",
        "\n",
        "\n",
        "**So you want to learn about numpy?**\n",
        "\n",
        "Numpy is an important library for anyone wanting to work with large scale datasets in Python.  Numpy arrays provide value because they are easier and faster to manipulate than traditional python lists.\n",
        "\n",
        "### Why use numpy arrays instead of Python lists?\n",
        "\n",
        "1. Saves you time as a programmer: when using lists, you have to use loops to apply a function to each element of an array.  In numpy, all common mathematical computations can be vectorized.  This leads to a much faster runtime, as well as fewer lines of code. \n",
        "\n",
        "2. Under the hood, numpy arrays use less memory, and are constrained to a single data type, which enables faster execution."
      ]
    },
    {
      "cell_type": "markdown",
      "metadata": {
        "id": "0MBJiZhzULR7"
      },
      "source": [
        "<img src=\"memory_diagram.png\">\n",
        "\n",
        "The figure above shows the memory diagram of a numpy array.  Python lists have special functionality where their elements don't all have to be of the same type.  As a result, under the hood python lists are actually an array of pointers that point to the actual array elements.  Hopefully, this fact provides some intuition as to why many operations run faster with numpy arrays as the underlying data structure! Neat!"
      ]
    },
    {
      "cell_type": "markdown",
      "metadata": {
        "id": "wxOzKwnRULR8"
      },
      "source": [
        "### Let's get started!"
      ]
    },
    {
      "cell_type": "code",
      "execution_count": 127,
      "metadata": {
        "id": "_NkT98FZULR9"
      },
      "outputs": [],
      "source": [
        "#It's a common convention to abbreviate numpy as np\n",
        "import numpy as np"
      ]
    },
    {
      "cell_type": "markdown",
      "metadata": {
        "id": "RIG4FbJByvZq"
      },
      "source": [
        "## Stuff from last time"
      ]
    },
    {
      "cell_type": "markdown",
      "metadata": {
        "id": "Pd4PAwQDULSA"
      },
      "source": [
        "### Creating a Numpy Array\n",
        "There are many ways to create a numpy array.  In general, the options are \n",
        "- converting other Python data structures to np.array format\n",
        "- numpy functions that create new arrays (i.e. np.ones, np.zeros, np.arange)\n",
        "- reading files from disk (in this class, mostly images)"
      ]
    },
    {
      "cell_type": "markdown",
      "metadata": {
        "id": "3Eeo1ld-ULSB"
      },
      "source": [
        "Note that unlike lists, you can't create an empty numpy array"
      ]
    },
    {
      "cell_type": "code",
      "execution_count": 128,
      "metadata": {
        "id": "3I4CCHUuULSB"
      },
      "outputs": [
        {
          "name": "stdout",
          "output_type": "stream",
          "text": [
            "1 dimensional: \n",
            "Shape:  (5,)\n"
          ]
        },
        {
          "data": {
            "text/plain": [
              "array([1, 2, 3, 4, 5])"
            ]
          },
          "execution_count": 128,
          "metadata": {},
          "output_type": "execute_result"
        }
      ],
      "source": [
        "# create a 1 dimensional array from a list: [1,2,3,4,5]\n",
        "print(\"1 dimensional: \")\n",
        "x = np.array([1,2,3,4,5])\n",
        "print(\"Shape: \", x.shape)\n",
        "x"
      ]
    },
    {
      "cell_type": "code",
      "execution_count": 129,
      "metadata": {
        "id": "mDrDKgovULSE"
      },
      "outputs": [
        {
          "name": "stdout",
          "output_type": "stream",
          "text": [
            "2 dimensional: \n",
            "Shape:  (2, 5)\n"
          ]
        },
        {
          "data": {
            "text/plain": [
              "array([[ 1,  2,  3,  4,  5],\n",
              "       [ 6,  7,  8,  9, 10]])"
            ]
          },
          "execution_count": 129,
          "metadata": {},
          "output_type": "execute_result"
        }
      ],
      "source": [
        "# Create a 2-d array from multiple lists: \n",
        "    # first row = [1,2,3,4,5]\n",
        "    # second row = [6,7,8,9,10]\n",
        "print(\"2 dimensional: \")\n",
        "y = np.array([[1,2,3,4,5], [6,7,8,9,10]])\n",
        "print(\"Shape: \", y.shape)\n",
        "y"
      ]
    },
    {
      "cell_type": "code",
      "execution_count": 130,
      "metadata": {
        "id": "JeLSZ7qTULSG"
      },
      "outputs": [
        {
          "data": {
            "text/plain": [
              "array([[0., 0., 0.],\n",
              "       [0., 0., 0.],\n",
              "       [0., 0., 0.]])"
            ]
          },
          "execution_count": 130,
          "metadata": {},
          "output_type": "execute_result"
        }
      ],
      "source": [
        "# you can create an array of any dimensions using np.zeros\n",
        "z = np.zeros((3,3))\n",
        "z"
      ]
    },
    {
      "cell_type": "code",
      "execution_count": 131,
      "metadata": {
        "id": "_6Vx-mg9ULSK"
      },
      "outputs": [
        {
          "name": "stdout",
          "output_type": "stream",
          "text": [
            "[[1. 0. 0.]\n",
            " [0. 1. 0.]\n",
            " [0. 0. 1.]]\n"
          ]
        },
        {
          "data": {
            "text/plain": [
              "array([[1., 1.],\n",
              "       [1., 1.]])"
            ]
          },
          "execution_count": 131,
          "metadata": {},
          "output_type": "execute_result"
        }
      ],
      "source": [
        "#other handy things\n",
        "identity = np.identity(3)\n",
        "print(identity)\n",
        "\n",
        "ones = np.ones((2,2))\n",
        "ones"
      ]
    },
    {
      "cell_type": "markdown",
      "metadata": {
        "id": "DlRDGxDrULSN"
      },
      "source": [
        "### Array attributes"
      ]
    },
    {
      "cell_type": "markdown",
      "metadata": {
        "id": "IiA5XuDsULSN"
      },
      "source": [
        "Every numpy array is a grid of elements of the same type. Numpy provides a large set of numeric datatypes that you can use to construct arrays. Numpy tries to guess a datatype when you create an array, but functions that construct arrays usually also include an optional argument to explicitly specify the datatype. Take a look at the attributes associated with a numpy array, and then we'll explore how numpy arrays determine their type."
      ]
    },
    {
      "cell_type": "code",
      "execution_count": 132,
      "metadata": {
        "id": "h3jXqb3LULSO"
      },
      "outputs": [
        {
          "name": "stdout",
          "output_type": "stream",
          "text": [
            "(3, 3)\n",
            "9\n",
            "float64\n"
          ]
        }
      ],
      "source": [
        "print(identity.shape) #returns tuple of dimensions\n",
        "print(identity.size) # returns total number of elements\n",
        "print(identity.dtype) #the default dtype is float64"
      ]
    },
    {
      "cell_type": "code",
      "execution_count": 133,
      "metadata": {
        "id": "BzgOMl6mULSQ"
      },
      "outputs": [
        {
          "name": "stdout",
          "output_type": "stream",
          "text": [
            "int32 float64 int64\n"
          ]
        }
      ],
      "source": [
        "x = np.array([1, 2])  # Let numpy choose the datatype\n",
        "y = np.array([1.0, 2.0])  # Let numpy choose the datatype\n",
        "z = np.array([1, 2], dtype=np.int64)  # Force a particular datatype\n",
        "\n",
        "print(x.dtype, y.dtype, z.dtype)"
      ]
    },
    {
      "cell_type": "markdown",
      "metadata": {
        "id": "5oTrjHsdULST"
      },
      "source": [
        "### Accessing elements"
      ]
    },
    {
      "cell_type": "markdown",
      "metadata": {
        "id": "P3t2quTiULSU"
      },
      "source": [
        "Numpy offers several ways to index into arrays. When arrays are one dimensional, indexing works just like lists. When arrays are 2 or more dimensional, you specify an index for each dimension:\n",
        "\n",
        "`value = array[row_index, col_index]`"
      ]
    },
    {
      "cell_type": "code",
      "execution_count": 134,
      "metadata": {
        "id": "beVECW0BULSU"
      },
      "outputs": [
        {
          "name": "stdout",
          "output_type": "stream",
          "text": [
            "[[1 2 3]\n",
            " [4 5 6]]\n",
            "expecting 3, got:  3\n",
            "expecting 4, got:  4\n"
          ]
        }
      ],
      "source": [
        "# Create a 2-dimensional array (matrix)\n",
        "# [[ 1  2  3]\n",
        "#  [ 4  5  6]]\n",
        "a = np.array([[1,2,3],[4,5,6]])   \n",
        "print(a)\n",
        "\n",
        "# Access the 3 with array indexing\n",
        "a_3 = a[0,2]\n",
        "print(\"expecting 3, got: \", a_3)\n",
        "\n",
        "# Access the 4 with array indexing\n",
        "a_4 = a[1,0]\n",
        "print(\"expecting 4, got: \", a_4)"
      ]
    },
    {
      "cell_type": "markdown",
      "metadata": {
        "id": "KtdtiweUULSW"
      },
      "source": [
        "Slicing: Similar to Python lists, numpy arrays can be sliced. Since arrays may be multidimensional, you must specify a slice for each dimension of the array. Recall how slicing works in lists:"
      ]
    },
    {
      "cell_type": "code",
      "execution_count": 135,
      "metadata": {
        "id": "S8Z0QU25ULSX"
      },
      "outputs": [
        {
          "name": "stdout",
          "output_type": "stream",
          "text": [
            "[0, 1, 2, 3, 4]\n",
            "All elements of l:  [0, 1, 2, 3, 4]\n",
            "All after 2nd element:  [2, 3, 4]\n",
            "All before 2nd element:  [0, 1]\n",
            "All between 1st and 3rd element exclusive:  [1, 2]\n"
          ]
        }
      ],
      "source": [
        "# Recall list slicing:\n",
        "l = [0,1,2,3,4]\n",
        "\n",
        "print(l)\n",
        "print(\"All elements of l: \", l[:])\n",
        "print(\"All after 2nd element: \", l[2:])\n",
        "print(\"All before 2nd element: \", l[:2])\n",
        "print(\"All between 1st and 3rd element exclusive: \", l[1:3])"
      ]
    },
    {
      "cell_type": "markdown",
      "metadata": {
        "id": "qvrCvwSjULSZ"
      },
      "source": [
        "Now let's try slicing in two dimensions!"
      ]
    },
    {
      "cell_type": "code",
      "execution_count": 136,
      "metadata": {
        "id": "4t_fIikyULSa"
      },
      "outputs": [
        {
          "name": "stdout",
          "output_type": "stream",
          "text": [
            "a = \n",
            " [[1 2 3]\n",
            " [4 5 6]]\n",
            "0th row expecting [1,2,3], got:  [1 2 3]\n",
            "0th column expecting [1,4], got:  [1 4]\n"
          ]
        }
      ],
      "source": [
        "print(\"a = \\n\", a)\n",
        "\n",
        "# Access the 0th row of a:\n",
        "a_row0 = a[0,:]\n",
        "print(\"0th row expecting [1,2,3], got: \", a_row0)\n",
        "\n",
        "# Access the 0th column of a\n",
        "a_col0 = a[:,0]\n",
        "print(\"0th column expecting [1,4], got: \", a_col0)"
      ]
    },
    {
      "cell_type": "code",
      "execution_count": 137,
      "metadata": {
        "id": "6DKoVOQ8ULSc"
      },
      "outputs": [
        {
          "name": "stdout",
          "output_type": "stream",
          "text": [
            "[[ 1  2  3  4]\n",
            " [ 5  6  7  8]\n",
            " [ 9 10 11 12]\n",
            " [13 14 15 16]]\n"
          ]
        }
      ],
      "source": [
        "# TODO: Create the following rank 2 array with shape (3, 4)\n",
        "# [[ 1,  2,  3,  4]\n",
        "#  [ 5,  6,  7,  8]\n",
        "#  [ 9, 10, 11, 12]\n",
        "#  [13, 14, 15, 16]]\n",
        "\n",
        "# HINT: if you want to take a fancy shortcut, use np.arange() to create this matrix\n",
        "\n",
        "b = np.array([[ 1,  2,  3,  4],\n",
        "              [ 5,  6,  7,  8],\n",
        "              [ 9, 10, 11, 12],\n",
        "              [ 13, 14, 15, 16]])\n",
        "\n",
        "b = np.array(np.arange(1,17)).reshape(4,4)\n",
        "print(b)"
      ]
    },
    {
      "cell_type": "code",
      "execution_count": 138,
      "metadata": {
        "id": "0sZ90CesULSf"
      },
      "outputs": [
        {
          "name": "stdout",
          "output_type": "stream",
          "text": [
            "middle two rows: \n",
            " [[ 5  6  7  8]\n",
            " [ 9 10 11 12]]\n",
            "middle two columns: \n",
            " [[ 2  3]\n",
            " [ 6  7]\n",
            " [10 11]\n",
            " [14 15]]\n",
            "center two columns and two rows: \n",
            " [[ 6  7]\n",
            " [10 11]]\n"
          ]
        }
      ],
      "source": [
        "# TODO: use slicing to pull out the middle two rows\n",
        "b_rows = b[1:3,:]\n",
        "print(\"middle two rows: \\n\", b_rows)\n",
        "\n",
        "# TODO: use slicing to pull out the middle two columns\n",
        "b_cols = b[:,1:3]\n",
        "print(\"middle two columns: \\n\", b_cols)\n",
        "\n",
        "# TODO: use slicing to pull out only the middle two rows and middle two columns,\n",
        "# meaning a (2,2) array: \n",
        "# [[6 7]\n",
        "#  [10 11]]\n",
        "b_center = b[1:3,1:3]\n",
        "print(\"center two columns and two rows: \\n\", b_center)\n"
      ]
    },
    {
      "cell_type": "markdown",
      "metadata": {
        "id": "zVEfDDuTULSh"
      },
      "source": [
        "A slice of an array is a view into the same data, so modifying it will modify the original array."
      ]
    },
    {
      "cell_type": "code",
      "execution_count": 139,
      "metadata": {
        "id": "05SmMyhlULSi"
      },
      "outputs": [
        {
          "name": "stdout",
          "output_type": "stream",
          "text": [
            "original a = \n",
            " [[1 2 3]\n",
            " [4 5 6]]\n",
            "new a = \n",
            " [[  1 100   3]\n",
            " [  4   5   6]]\n"
          ]
        }
      ],
      "source": [
        "# [[ 1  2  3]\n",
        "#  [ 4  5  6]]\n",
        "a = np.array([[1,2,3],[4,5,6]])   \n",
        "print(\"original a = \\n\", a)\n",
        "\n",
        "a_row0 = a[0,:]\n",
        "a_row0[1] = 100 # a_row0[1] is the same piece of data as a[0, 1]\n",
        "\n",
        "print(\"new a = \\n\", a)"
      ]
    },
    {
      "cell_type": "markdown",
      "metadata": {
        "id": "tLnAtAOxULSk"
      },
      "source": [
        "### Matrix Operations\n",
        "Numpy makes it easy to do matrix operations on arrays, like multiply, invert, etc. Basic mathematical functions operate elementwise on arrays, and are available both as operator overloads and as functions in the numpy module"
      ]
    },
    {
      "cell_type": "code",
      "execution_count": 140,
      "metadata": {
        "id": "FcL7SgOMULSk"
      },
      "outputs": [
        {
          "name": "stdout",
          "output_type": "stream",
          "text": [
            "x = \n",
            " [[1. 2.]\n",
            " [3. 4.]]\n",
            "float64\n",
            "y = \n",
            " [[5. 6.]\n",
            " [7. 8.]]\n",
            "float64\n"
          ]
        }
      ],
      "source": [
        "x = np.array([[1,2],[3,4]], dtype=np.float64)\n",
        "y = np.array([[5,6],[7,8]], dtype=np.float64)\n",
        "\n",
        "print(\"x = \\n\", x)\n",
        "print(x.dtype)\n",
        "print(\"y = \\n\", y)\n",
        "print(y.dtype)\n",
        "\n"
      ]
    },
    {
      "cell_type": "code",
      "execution_count": 141,
      "metadata": {
        "id": "uT6wLrC6ULSm"
      },
      "outputs": [
        {
          "name": "stdout",
          "output_type": "stream",
          "text": [
            "Original x: \n",
            "[[1. 2.]\n",
            " [3. 4.]]\n",
            "\n",
            "x+1\n",
            "[[2. 3.]\n",
            " [4. 5.]]\n",
            "\n",
            "x*4.5\n",
            "[[ 4.5  9. ]\n",
            " [13.5 18. ]]\n",
            "\n",
            "x/2.0\n",
            "[[0.5 1. ]\n",
            " [1.5 2. ]]\n"
          ]
        }
      ],
      "source": [
        "#all arithmetic operations are applied to a matrix element-wise\n",
        "print(\"Original x: \")\n",
        "print(x)\n",
        "print(\"\\nx+1\")\n",
        "print(x + 1)\n",
        "print(\"\\nx*4.5\")\n",
        "print(4.5*x)\n",
        "print(\"\\nx/2.0\")\n",
        "print(x/2.0)"
      ]
    },
    {
      "cell_type": "code",
      "execution_count": 142,
      "metadata": {
        "id": "Fbl46wG2ULSp"
      },
      "outputs": [
        {
          "name": "stdout",
          "output_type": "stream",
          "text": [
            "x = \n",
            " [[1. 2.]\n",
            " [3. 4.]]\n",
            "y = \n",
            " [[5. 6.]\n",
            " [7. 8.]]\n",
            "\n",
            "x+y:\n",
            "[[ 6.  8.]\n",
            " [10. 12.]]\n",
            "[[ 6.  8.]\n",
            " [10. 12.]]\n"
          ]
        }
      ],
      "source": [
        "# Elementwise sum; both produce the array\n",
        "print(\"x = \\n\", x)\n",
        "print(\"y = \\n\", y)\n",
        "print(\"\\nx+y:\")\n",
        "print(x + y)\n",
        "print(np.add(x, y))"
      ]
    },
    {
      "cell_type": "code",
      "execution_count": 143,
      "metadata": {
        "id": "rKK-XXwjULSs"
      },
      "outputs": [
        {
          "name": "stdout",
          "output_type": "stream",
          "text": [
            "x = \n",
            " [[1. 2.]\n",
            " [3. 4.]]\n",
            "y = \n",
            " [[5. 6.]\n",
            " [7. 8.]]\n",
            "\n",
            "x-y:\n",
            "[[-4. -4.]\n",
            " [-4. -4.]]\n",
            "[[-4. -4.]\n",
            " [-4. -4.]]\n"
          ]
        }
      ],
      "source": [
        "# Elementwise difference; both produce the array\n",
        "print(\"x = \\n\", x)\n",
        "print(\"y = \\n\", y)\n",
        "print(\"\\nx-y:\")\n",
        "print(x - y)\n",
        "print(np.subtract(x, y))"
      ]
    },
    {
      "cell_type": "code",
      "execution_count": 144,
      "metadata": {
        "id": "c40V6-fAULSu"
      },
      "outputs": [
        {
          "name": "stdout",
          "output_type": "stream",
          "text": [
            "x = \n",
            " [[1. 2.]\n",
            " [3. 4.]]\n",
            "y = \n",
            " [[5. 6.]\n",
            " [7. 8.]]\n",
            "\n",
            "x*y:\n",
            "[[ 5. 12.]\n",
            " [21. 32.]]\n",
            "[[ 5. 12.]\n",
            " [21. 32.]]\n"
          ]
        }
      ],
      "source": [
        "# Elementwise product; both produce the array\n",
        "print(\"x = \\n\", x)\n",
        "print(\"y = \\n\", y)\n",
        "print(\"\\nx*y:\")\n",
        "print(x * y)\n",
        "print(np.multiply(x, y))"
      ]
    },
    {
      "cell_type": "code",
      "execution_count": 145,
      "metadata": {
        "id": "WBmy06M8ULSw"
      },
      "outputs": [
        {
          "name": "stdout",
          "output_type": "stream",
          "text": [
            "x = \n",
            " [[1. 2.]\n",
            " [3. 4.]]\n",
            "y = \n",
            " [[5. 6.]\n",
            " [7. 8.]]\n",
            "\n",
            "x/y:\n",
            "[[0.2        0.33333333]\n",
            " [0.42857143 0.5       ]]\n",
            "[[0.2        0.33333333]\n",
            " [0.42857143 0.5       ]]\n"
          ]
        }
      ],
      "source": [
        "# Elementwise division; both produce the array\n",
        "# [[ 0.2         0.33333333]\n",
        "#  [ 0.42857143  0.5       ]]\n",
        "print(\"x = \\n\", x)\n",
        "print(\"y = \\n\", y)\n",
        "print(\"\\nx/y:\")\n",
        "print(x / y)\n",
        "print(np.divide(x, y))"
      ]
    },
    {
      "cell_type": "code",
      "execution_count": 146,
      "metadata": {
        "id": "HPSJS0TqULSx"
      },
      "outputs": [
        {
          "name": "stdout",
          "output_type": "stream",
          "text": [
            "x = \n",
            " [[1. 2.]\n",
            " [3. 4.]]\n",
            "\n",
            "sqrt(x):\n",
            "[[1.         1.41421356]\n",
            " [1.73205081 2.        ]]\n"
          ]
        }
      ],
      "source": [
        "# Elementwise square root; produces the array\n",
        "# [[ 1.          1.41421356]\n",
        "#  [ 1.73205081  2.        ]]\n",
        "print(\"x = \\n\", x)\n",
        "print(\"\\nsqrt(x):\")\n",
        "print(np.sqrt(x))"
      ]
    },
    {
      "cell_type": "code",
      "execution_count": 147,
      "metadata": {
        "id": "VjJsksKnULSz"
      },
      "outputs": [
        {
          "name": "stdout",
          "output_type": "stream",
          "text": [
            "x = \n",
            " [[1. 2.]\n",
            " [3. 4.]]\n",
            "\n",
            "x^2:\n",
            "[[ 1.  4.]\n",
            " [ 9. 16.]]\n"
          ]
        }
      ],
      "source": [
        "# Elementwise power; produces the array\n",
        "# [[ 1.          1.41421356]\n",
        "#  [ 1.73205081  2.        ]]\n",
        "print(\"x = \\n\", x)\n",
        "print(\"\\nx^2:\")\n",
        "print(np.power(x,2))"
      ]
    },
    {
      "cell_type": "code",
      "execution_count": 148,
      "metadata": {
        "id": "UceZs5wTULS2"
      },
      "outputs": [
        {
          "data": {
            "text/plain": [
              "array([[ 5., 12.],\n",
              "       [21., 32.]])"
            ]
          },
          "execution_count": 148,
          "metadata": {},
          "output_type": "execute_result"
        }
      ],
      "source": [
        "# Will this multiplication operator do elementwise multiplication or matrix multiplication?\n",
        "x*y"
      ]
    },
    {
      "cell_type": "markdown",
      "metadata": {
        "id": "y7OH25nVULS4"
      },
      "source": [
        "Let's practice these operations!\n",
        "\n",
        "Given arrays x and y, write array z as a function of x and y: z[0] = x[0] - y[0], and z[1] = x[1] - y[1]. Use numpy operations!\n",
        "\n",
        "Hint: think about how the 2 equations may be written with vector operations (such as those above), and that will translate cleanly to numpy "
      ]
    },
    {
      "cell_type": "code",
      "execution_count": 149,
      "metadata": {
        "id": "s9BkBqXCULS4"
      },
      "outputs": [
        {
          "name": "stdout",
          "output_type": "stream",
          "text": [
            "Your answer:  [-1 -2]\n",
            "Expecting:  [-1 -2]\n",
            "Correct!\n"
          ]
        }
      ],
      "source": [
        "# TODO\n",
        "x = np.array([1,3])\n",
        "y = np.array([2,5])\n",
        "z = np.array([-1,-2])\n",
        "\n",
        "z_computed = x - y\n",
        "print(\"Your answer: \", z_computed)\n",
        "print(\"Expecting: \", z)\n",
        "if z.all() == z_computed.all():\n",
        "    print(\"Correct!\")\n",
        "else:\n",
        "    print(\"Try thinking of a numpy function above with x and y that gets you equivalent to z\")"
      ]
    },
    {
      "cell_type": "markdown",
      "metadata": {
        "id": "f4fds8DUULTA"
      },
      "source": [
        "Now, try using the numpy functions to calculate x = ((a+b)*c) - d\n",
        "\n",
        "If you get stuck, try following the order of operations with the parenthesis and compute a+b first and verify by hand, and then proceed to (a+b)*c, and so on."
      ]
    },
    {
      "cell_type": "code",
      "execution_count": 150,
      "metadata": {
        "id": "6JZLAa4ZULTA"
      },
      "outputs": [
        {
          "name": "stdout",
          "output_type": "stream",
          "text": [
            "Your answer:  [3. 1.]\n",
            "Expecting:  [3 1]\n",
            "Correct!\n"
          ]
        }
      ],
      "source": [
        "\n",
        "a = np.array([1,3])\n",
        "b = np.array([1,1])\n",
        "c = np.array([2,1/2])\n",
        "d = np.array([1,1])\n",
        "x = np.array([3,1])\n",
        "\n",
        "# TODO\n",
        "answer = ((a+b)*c)-d\n",
        "\n",
        "print(\"Your answer: \", answer)\n",
        "print(\"Expecting: \", x)\n",
        "if x.all() == answer.all():\n",
        "    print(\"Correct!\")\n",
        "else:\n",
        "    print(\"Try thinking of a which numpy functions above with a,b, and c gets you equivalent to x\")"
      ]
    },
    {
      "cell_type": "markdown",
      "metadata": {
        "id": "ygFOhKs-ULTD"
      },
      "source": [
        "### Axis-based operations"
      ]
    },
    {
      "cell_type": "markdown",
      "metadata": {
        "id": "J8fZg4kBULTD"
      },
      "source": [
        "Now that we've covered 2d indexing, there's some important numpy functions that operate on a particular axis, so let's get hands on with sum()! Many numpy operations including sum, max, argmax, mean, standard deviation operate over a chosen axis of your array. \n",
        "\n",
        "Sum can sum all elements of the 2d array, or it can sum across each row, or sum down each column. \n",
        "\n",
        "Axis 0 corresponds to columns, and axis 1 corresponds to rows, just like indexing. When you apply an operation like sum over axis 0, that means axis 0 is being squashed into length 1 by the sum, max, etc. operation."
      ]
    },
    {
      "cell_type": "code",
      "execution_count": 151,
      "metadata": {
        "id": "bQAmWZpIULTE"
      },
      "outputs": [
        {
          "name": "stdout",
          "output_type": "stream",
          "text": [
            "std: 0.24679939319063715\n",
            "mean: 0.36906615323722824\n",
            "sum: 3.3215953791350543\n",
            "\n",
            "std (rows): [0.1821935  0.14563714 0.23180891]\n",
            "mean (rows): [0.33845997 0.19307798 0.57566051]\n"
          ]
        }
      ],
      "source": [
        "#numpy arrays have builtin methods to calculate summary statistics such as std. dev., mean, min, max, sum\n",
        "y = np.random.random(9).reshape(3,3)\n",
        "print(\"std:\", y.std())\n",
        "print(\"mean:\", y.mean())\n",
        "print(\"sum:\", y.sum())\n",
        "\n",
        "print()\n",
        "#you can also do these operations with respect to a particular axis\n",
        "print(\"std (rows):\", y.std(axis = 1))\n",
        "print(\"mean (rows):\", y.mean(axis = 1))"
      ]
    },
    {
      "cell_type": "code",
      "execution_count": 152,
      "metadata": {
        "id": "fCR8H_KjULTF"
      },
      "outputs": [
        {
          "name": "stdout",
          "output_type": "stream",
          "text": [
            "[[1 2]\n",
            " [3 4]]\n",
            "\n",
            "10\n",
            "\n",
            "[4 6]\n",
            "\n",
            "[3 7]\n"
          ]
        }
      ],
      "source": [
        "# Sum of an array along various axes\n",
        "x = np.array([[1,2],[3,4]])\n",
        "print(x)\n",
        "print()\n",
        "print(np.sum(x))  # Compute sum of all elements; prints \"10\"\n",
        "print()\n",
        "print(np.sum(x, axis=0))  # Compute sum of each column; prints \"[4 6]\"\n",
        "print()\n",
        "print(np.sum(x, axis=1)) # Compute sum of each row; prints \"[3 7]\""
      ]
    },
    {
      "cell_type": "code",
      "execution_count": 153,
      "metadata": {
        "id": "W3VMQS1sULTH"
      },
      "outputs": [
        {
          "name": "stdout",
          "output_type": "stream",
          "text": [
            "[1 2 3]\n",
            "6\n"
          ]
        }
      ],
      "source": [
        "# Sum of a vector doesn't need to specify axis since there's only one axis\n",
        "x = np.array([1,2,3])\n",
        "print(x)\n",
        "print(np.sum(x))"
      ]
    },
    {
      "cell_type": "markdown",
      "metadata": {
        "id": "_2T4vm77ULTK"
      },
      "source": [
        "Your turn!"
      ]
    },
    {
      "cell_type": "code",
      "execution_count": 154,
      "metadata": {
        "id": "VShs1p0WULTL"
      },
      "outputs": [
        {
          "name": "stdout",
          "output_type": "stream",
          "text": [
            "x = \n",
            " [[1 2 3]\n",
            " [4 5 6]\n",
            " [3 2 1]]\n"
          ]
        }
      ],
      "source": [
        "# Get hands-on with sum! Guess what the output will be and then run it to confirm\n",
        "x = np.array([[1,2,3],[4,5,6],[3,2,1]])\n",
        "print(\"x = \\n\", x)\n"
      ]
    },
    {
      "cell_type": "code",
      "execution_count": 155,
      "metadata": {
        "id": "xIsExRpKULTN"
      },
      "outputs": [
        {
          "name": "stdout",
          "output_type": "stream",
          "text": [
            "Your guess for np.sum(x):  27\n",
            "Actual =  27\n"
          ]
        }
      ],
      "source": [
        "#np.sum(x)\n",
        "# TODO:\n",
        "guess = 27\n",
        "print(\"Your guess for np.sum(x): \", guess)\n",
        "print(\"Actual = \", np.sum(x))"
      ]
    },
    {
      "cell_type": "code",
      "execution_count": 156,
      "metadata": {
        "id": "ZCrBiB-UULTP"
      },
      "outputs": [
        {
          "name": "stdout",
          "output_type": "stream",
          "text": [
            "Your guess for np.sum(x, axis=1):  [6, 15, 6]\n",
            "Actual =  [ 6 15  6]\n"
          ]
        }
      ],
      "source": [
        "#np.sum(x, axis=1)\n",
        "# TODO:\n",
        "guess = [6, 15, 6]\n",
        "print(\"Your guess for np.sum(x, axis=1): \", guess)\n",
        "print(\"Actual = \", np.sum(x, axis=1))"
      ]
    },
    {
      "cell_type": "code",
      "execution_count": 157,
      "metadata": {
        "id": "5gSIGgfOULTR",
        "scrolled": true
      },
      "outputs": [
        {
          "name": "stdout",
          "output_type": "stream",
          "text": [
            "Your guess for np.sum(x, axis=0):  [8, 9, 10]\n",
            "Actual =  [ 8  9 10]\n"
          ]
        }
      ],
      "source": [
        "#np.sum(x, axis=0)\n",
        "# TODO:\n",
        "guess = [8, 9, 10]\n",
        "print(\"Your guess for np.sum(x, axis=0): \", guess)\n",
        "print(\"Actual = \", np.sum(x, axis=0))"
      ]
    },
    {
      "cell_type": "markdown",
      "metadata": {
        "id": "lLa2aWmXULTT"
      },
      "source": [
        "### Demo\n",
        "Imagine I want to apply the function $f(x) = x^2 + x -6$ to every emelent of an array"
      ]
    },
    {
      "cell_type": "code",
      "execution_count": 158,
      "metadata": {
        "id": "xIPy25Q9ULTT"
      },
      "outputs": [
        {
          "name": "stdout",
          "output_type": "stream",
          "text": [
            "1000\n"
          ]
        },
        {
          "data": {
            "text/plain": [
              "[[-6, 8],\n",
              " [-8, -2],\n",
              " [-7, 5],\n",
              " [4, 5],\n",
              " [10, 2],\n",
              " [-4, -7],\n",
              " [5, -10],\n",
              " [2, 3],\n",
              " [9, -10],\n",
              " [4, -2]]"
            ]
          },
          "execution_count": 158,
          "metadata": {},
          "output_type": "execute_result"
        }
      ],
      "source": [
        "#First let's try it with python lists\n",
        "import random\n",
        "random.seed(1)\n",
        "h = 1000\n",
        "w = 2\n",
        "\n",
        "def func(x):\n",
        "    return x**2 + x - 6\n",
        "\n",
        "first_list = [[random.randint(-10,10), random.randint(-10,10)] for i in range(h)]\n",
        "print(len(first_list))\n",
        "first_list[:10]\n"
      ]
    },
    {
      "cell_type": "code",
      "execution_count": 159,
      "metadata": {
        "id": "fG8um6SXULTV"
      },
      "outputs": [
        {
          "name": "stdout",
          "output_type": "stream",
          "text": [
            "Wall time: 1.03 ms\n"
          ]
        }
      ],
      "source": [
        "%%time\n",
        "for i in range(h):\n",
        "    for j in range(w):\n",
        "        first_list[i][j] = func(first_list[i][j])"
      ]
    },
    {
      "cell_type": "code",
      "execution_count": 160,
      "metadata": {
        "id": "fW8JRutCULTW"
      },
      "outputs": [
        {
          "data": {
            "text/plain": [
              "[[24, 66],\n",
              " [50, -4],\n",
              " [36, 24],\n",
              " [14, 24],\n",
              " [104, 0],\n",
              " [6, 36],\n",
              " [24, 84],\n",
              " [0, 6],\n",
              " [84, 84],\n",
              " [14, -4]]"
            ]
          },
          "execution_count": 160,
          "metadata": {},
          "output_type": "execute_result"
        }
      ],
      "source": [
        "first_list[:10]"
      ]
    },
    {
      "cell_type": "markdown",
      "metadata": {
        "id": "fM0IsjhcULTY"
      },
      "source": [
        "### Now let's do the same thing with numpy arrays"
      ]
    },
    {
      "cell_type": "code",
      "execution_count": 161,
      "metadata": {
        "id": "t9YMw5ZtULTY"
      },
      "outputs": [
        {
          "name": "stdout",
          "output_type": "stream",
          "text": [
            "[[-0.11647727 -1.14159761]\n",
            " [-9.21618163  8.78342698]\n",
            " [ 2.48192708  5.34817754]\n",
            " [ 5.28143693  5.46469356]\n",
            " [ 3.2703259  -6.36248308]\n",
            " [-4.33070651 -8.09295253]\n",
            " [-5.5799219   3.92214005]\n",
            " [-1.37244522  1.6023913 ]\n",
            " [-0.80902966 -5.79172096]\n",
            " [-4.72989674 -0.28296199]]\n"
          ]
        }
      ],
      "source": [
        "#By default, rand returns a rnadom number in the range [0,1) - so we normalize to get the values we want\n",
        "array = np.random.rand(h* w).reshape((h,w))\n",
        "array = array*20 - 10\n",
        "print(array[:10])"
      ]
    },
    {
      "cell_type": "code",
      "execution_count": 162,
      "metadata": {
        "id": "F-9D7GjyULTa"
      },
      "outputs": [
        {
          "name": "stdout",
          "output_type": "stream",
          "text": [
            "Wall time: 0 ns\n"
          ]
        }
      ],
      "source": [
        "%%time\n",
        "array = array**2 + array - 6"
      ]
    },
    {
      "cell_type": "code",
      "execution_count": 163,
      "metadata": {
        "id": "3ghuAGaDULTc",
        "scrolled": true
      },
      "outputs": [
        {
          "name": "stdout",
          "output_type": "stream",
          "text": [
            "[[-6.10291032 -5.83835251]\n",
            " [69.72182223 79.93201653]\n",
            " [ 2.64188909 27.95118057]\n",
            " [27.17501297 29.32756931]\n",
            " [ 7.96535739 28.11870791]\n",
            " [ 8.42431235 51.40292812]\n",
            " [19.55560651 13.30532266]\n",
            " [-5.48883934 -1.8299508 ]\n",
            " [-6.15450067 21.75231071]\n",
            " [11.64202645 -6.2028945 ]]\n"
          ]
        }
      ],
      "source": [
        "#Check that it worked\n",
        "print(array[:10])"
      ]
    },
    {
      "cell_type": "markdown",
      "metadata": {
        "id": "22iFHMmfULTg"
      },
      "source": [
        "### It's way faster!"
      ]
    },
    {
      "cell_type": "markdown",
      "metadata": {
        "id": "6RcxIVfKULTh"
      },
      "source": [
        "### Some other useful manipulations\n",
        "A complete list of possible array manipulations can be found here:\n",
        "https://numpy.org/devdocs/reference/routines.array-manipulation.html"
      ]
    },
    {
      "cell_type": "code",
      "execution_count": 164,
      "metadata": {
        "id": "YmSyub7xULTh"
      },
      "outputs": [
        {
          "data": {
            "text/plain": [
              "array([[1.        , 2.        , 3.        ],\n",
              "       [4.        , 5.        , 6.        ],\n",
              "       [3.        , 2.        , 1.        ],\n",
              "       [0.52428438, 0.40012357, 0.09097197],\n",
              "       [0.37910873, 0.02351402, 0.1766112 ],\n",
              "       [0.89307018, 0.48795832, 0.34595301]])"
            ]
          },
          "execution_count": 164,
          "metadata": {},
          "output_type": "execute_result"
        }
      ],
      "source": [
        "np.concatenate((x,y), axis = 0)"
      ]
    },
    {
      "cell_type": "code",
      "execution_count": 165,
      "metadata": {
        "id": "AXvtt_6JULTj"
      },
      "outputs": [
        {
          "data": {
            "text/plain": [
              "array([[1.        , 2.        , 3.        , 0.52428438, 0.40012357,\n",
              "        0.09097197],\n",
              "       [4.        , 5.        , 6.        , 0.37910873, 0.02351402,\n",
              "        0.1766112 ],\n",
              "       [3.        , 2.        , 1.        , 0.89307018, 0.48795832,\n",
              "        0.34595301]])"
            ]
          },
          "execution_count": 165,
          "metadata": {},
          "output_type": "execute_result"
        }
      ],
      "source": [
        "result = np.concatenate((x,y), axis = 1)\n",
        "result"
      ]
    },
    {
      "cell_type": "code",
      "execution_count": 166,
      "metadata": {
        "id": "VZVhshXwULTn"
      },
      "outputs": [
        {
          "data": {
            "text/plain": [
              "array([[1.        , 4.        , 3.        ],\n",
              "       [2.        , 5.        , 2.        ],\n",
              "       [3.        , 6.        , 1.        ],\n",
              "       [0.52428438, 0.37910873, 0.89307018],\n",
              "       [0.40012357, 0.02351402, 0.48795832],\n",
              "       [0.09097197, 0.1766112 , 0.34595301]])"
            ]
          },
          "execution_count": 166,
          "metadata": {},
          "output_type": "execute_result"
        }
      ],
      "source": [
        "#not an inplace operation, if you want it to persist you need to reassign the variable using =\n",
        "np.transpose(result)"
      ]
    },
    {
      "cell_type": "code",
      "execution_count": 167,
      "metadata": {
        "id": "8wpwY3jdULTp"
      },
      "outputs": [
        {
          "data": {
            "text/plain": [
              "array([[ 0.,  1.],\n",
              "       [ 1., -1.]])"
            ]
          },
          "execution_count": 167,
          "metadata": {},
          "output_type": "execute_result"
        }
      ],
      "source": [
        "#to invert a matrix use np.linalg.inv\n",
        "x = np.array([[1,1], [1,0]])\n",
        "np.linalg.inv(x)"
      ]
    },
    {
      "cell_type": "markdown",
      "metadata": {
        "id": "lbQF1UXKULTs"
      },
      "source": [
        "### Numpy for Linear Algebra"
      ]
    },
    {
      "cell_type": "markdown",
      "metadata": {
        "id": "hcMsgi8WULTt"
      },
      "source": [
        "#### Dot products"
      ]
    },
    {
      "cell_type": "markdown",
      "metadata": {
        "id": "b5vuWemEULTt"
      },
      "source": [
        "We'll first define vectors v and w. Recall that the dot product of two vectors is calculating by multiplying each corresponding value and then summing the result. Let's start by computing the dot product with a for loop"
      ]
    },
    {
      "cell_type": "code",
      "execution_count": 168,
      "metadata": {
        "id": "_C_pqxW-ULTu"
      },
      "outputs": [
        {
          "name": "stdout",
          "output_type": "stream",
          "text": [
            "v = \n",
            " [1 2 3]\n",
            "w = \n",
            " [4 5 6]\n",
            "expected dot product = 32\n",
            "32\n"
          ]
        }
      ],
      "source": [
        "v = np.array([1,2,3])\n",
        "w = np.array([4,5,6])\n",
        "\n",
        "print(\"v = \\n\", v)\n",
        "print(\"w = \\n\", w)\n",
        "print(\"expected dot product = 32\")\n",
        "\n",
        "# TODO: compute dot product of v and w with a for loop\n",
        "# note: length of a 1 dimensional array  = len(array) or array.shape[0]\n",
        "assert (v.size == w.size), \"different size!\"\n",
        "\n",
        "forloop_dotproduct = 0\n",
        "for i in range(v.shape[0]):\n",
        "    forloop_dotproduct += v[i]*w[i]\n",
        "\n",
        "print(forloop_dotproduct)\n",
        "\n"
      ]
    },
    {
      "cell_type": "code",
      "execution_count": 169,
      "metadata": {
        "id": "3lHARWn5ULTv"
      },
      "outputs": [
        {
          "name": "stdout",
          "output_type": "stream",
          "text": [
            "32\n"
          ]
        }
      ],
      "source": [
        "# TODO: compute dot product of v and w with numpy functions \n",
        "# hint: addition and summation are the key operations in a dot product\n",
        "\n",
        "np_dotproduct = np.sum(v * w)\n",
        "print(np_dotproduct)\n"
      ]
    },
    {
      "cell_type": "code",
      "execution_count": 170,
      "metadata": {
        "id": "gH8agz9EULTx"
      },
      "outputs": [
        {
          "name": "stdout",
          "output_type": "stream",
          "text": [
            "32\n",
            "32\n"
          ]
        }
      ],
      "source": [
        "# TODO: two ways of using np.dot() to compute the same dot product\n",
        "print(v.dot(w))\n",
        "print(np.dot(v, w))"
      ]
    },
    {
      "cell_type": "markdown",
      "metadata": {
        "id": "LCkMb4yEULTz"
      },
      "source": [
        "#### Matrix-vector product"
      ]
    },
    {
      "cell_type": "markdown",
      "metadata": {
        "id": "D3psYFVKULTz"
      },
      "source": [
        "We'll first define matrix M and vector v. Recall that matrix multiplication between a matrix and a vector involves computing a dot product between each row of the matrix M and the vector v. \n",
        "\n",
        "In machine learning, M is typically a matrix of learned parameters where each row corresponds to one of the output predictions, which is a weighted sum of the input features from v. The features v change for every new example but the weights M are applied to every example in training and testing data.\n",
        "\n"
      ]
    },
    {
      "cell_type": "code",
      "execution_count": 171,
      "metadata": {
        "id": "6rZ91VoQULT0"
      },
      "outputs": [
        {
          "name": "stdout",
          "output_type": "stream",
          "text": [
            "M = \n",
            " [[1 2 3]\n",
            " [3 2 1]]\n",
            "v = \n",
            " [4 1 2]\n",
            "Result = \n",
            "[12, 16]\n"
          ]
        }
      ],
      "source": [
        "M = np.array([[1,2,3],[3,2,1]])\n",
        "v = np.array([4,1,2])\n",
        "\n",
        "print(\"M = \\n\", M)\n",
        "print(\"v = \\n\", v)\n",
        "print(\"Result = \\n[12, 16]\")"
      ]
    },
    {
      "cell_type": "code",
      "execution_count": 172,
      "metadata": {
        "id": "g9A2b_wSULT2"
      },
      "outputs": [
        {
          "name": "stdout",
          "output_type": "stream",
          "text": [
            "np.dot matrix product = \n",
            " [12 16]\n"
          ]
        }
      ],
      "source": [
        "# TODO: get each row of M using array slicing\n",
        "M_row0 = M[0]\n",
        "M_row1 = M[1]\n",
        "\n",
        "# TODO: compute the dot product of each row of M with v\n",
        "row0_dotproduct = np.dot(M_row0, v)\n",
        "row1_dotproduct = np.dot(M_row1, v)\n",
        "\n",
        "answer = np.array([row0_dotproduct, row1_dotproduct])\n",
        "print(\"np.dot matrix product = \\n\", answer)"
      ]
    },
    {
      "cell_type": "code",
      "execution_count": 173,
      "metadata": {
        "id": "ns4KL-bKULT4"
      },
      "outputs": [
        {
          "name": "stdout",
          "output_type": "stream",
          "text": [
            "np.dot matrix product = \n",
            " [12 16]\n"
          ]
        }
      ],
      "source": [
        "# TODO: get each row of M using array slicing\n",
        "M_row0 = M[0,:]\n",
        "M_row1 = M[1,:]\n",
        "\n",
        "# TODO: compute the dot product of each row of M with v\n",
        "row0_dotproduct = np.dot(M_row0, v)\n",
        "row1_dotproduct = np.dot(M_row1, v)\n",
        "\n",
        "answer = np.array([row0_dotproduct, row1_dotproduct])\n",
        "print(\"np.dot matrix product = \\n\", answer)"
      ]
    },
    {
      "cell_type": "code",
      "execution_count": 174,
      "metadata": {
        "id": "3V8Zk7tRULT7"
      },
      "outputs": [
        {
          "name": "stdout",
          "output_type": "stream",
          "text": [
            "[12 16]\n",
            "[12 16]\n",
            "[12 16]\n"
          ]
        }
      ],
      "source": [
        "# Use numpy's built in functionality to get the same result\n",
        "print(np.dot(M,v))\n",
        "print(np.matmul(M,v))\n",
        "print(M@v)"
      ]
    },
    {
      "cell_type": "markdown",
      "metadata": {
        "id": "HlkYq9vFULT_"
      },
      "source": [
        "#### Matrix-Matrix multiplication"
      ]
    },
    {
      "cell_type": "code",
      "execution_count": 175,
      "metadata": {
        "id": "Pi86gN1iULT_"
      },
      "outputs": [
        {
          "name": "stdout",
          "output_type": "stream",
          "text": [
            "A = \n",
            " [[1 2]\n",
            " [3 4]]\n",
            "B = \n",
            " [[4 3]\n",
            " [2 1]]\n"
          ]
        }
      ],
      "source": [
        "A = np.array([[1,2],[3,4]])\n",
        "B = np.array([[4,3],[2,1]])\n",
        "\n",
        "print(\"A = \\n\", A)\n",
        "print(\"B = \\n\", B)"
      ]
    },
    {
      "cell_type": "code",
      "execution_count": 176,
      "metadata": {
        "id": "ZUa0fTFLULUC"
      },
      "outputs": [
        {
          "name": "stdout",
          "output_type": "stream",
          "text": [
            "upper left =  8\n",
            "upper right =  5\n",
            "lower left =  20\n",
            "lower right =  13\n"
          ]
        }
      ],
      "source": [
        "upper_left = np.dot(A[0,:], B[:,0])\n",
        "print(\"upper left = \", upper_left)\n",
        "\n",
        "upper_right = np.dot(A[0,:], B[:,1])\n",
        "print(\"upper right = \", upper_right)\n",
        "\n",
        "lower_left = np.dot(A[1,:], B[:,0])\n",
        "print(\"lower left = \", lower_left)\n",
        "\n",
        "lower_right = np.dot(A[1,:], B[:,1])\n",
        "print(\"lower right = \", lower_right)"
      ]
    },
    {
      "cell_type": "code",
      "execution_count": 177,
      "metadata": {
        "id": "QGYufj5uULUF"
      },
      "outputs": [
        {
          "name": "stdout",
          "output_type": "stream",
          "text": [
            "[[ 8  5]\n",
            " [20 13]]\n",
            "[[ 8  5]\n",
            " [20 13]]\n"
          ]
        }
      ],
      "source": [
        "print(np.dot(A,B))\n",
        "print(np.matmul(A,B))"
      ]
    },
    {
      "cell_type": "markdown",
      "metadata": {
        "id": "v8IOLHq5y9KB"
      },
      "source": [
        "## New content!"
      ]
    },
    {
      "cell_type": "markdown",
      "metadata": {
        "id": "2YZYE-lvyr27"
      },
      "source": [
        "### Numpy arrays, references, and *copies*\n",
        "You may have noticed that it can be tricky to manipulate arrays in python because by default, python passed objects as references. In this section, we'll explain this behavior, and giving some debugging tools to use when confronted with related issues."
      ]
    },
    {
      "cell_type": "code",
      "execution_count": 178,
      "metadata": {
        "id": "bmo31qLVyr28"
      },
      "outputs": [
        {
          "data": {
            "text/plain": [
              "array([ 1.,  2.,  3.,  4.,  5.,  6.,  7.,  8.,  9., 10.])"
            ]
          },
          "execution_count": 178,
          "metadata": {},
          "output_type": "execute_result"
        }
      ],
      "source": [
        "array = np.linspace(1, 10, 10)\n",
        "array\n"
      ]
    },
    {
      "cell_type": "code",
      "execution_count": 179,
      "metadata": {
        "id": "jAMpTZcVyr3A"
      },
      "outputs": [
        {
          "data": {
            "text/plain": [
              "array([ 1.,  2.,  3.,  4.,  5.,  6.,  7.,  8.,  9., 10.])"
            ]
          },
          "execution_count": 179,
          "metadata": {},
          "output_type": "execute_result"
        }
      ],
      "source": [
        "dup = array\n",
        "dup"
      ]
    },
    {
      "cell_type": "code",
      "execution_count": 180,
      "metadata": {
        "id": "ajIVsGUhyr3C"
      },
      "outputs": [
        {
          "data": {
            "text/plain": [
              "array([100.,   2.,   3.,   4.,   5.,   6.,   7.,   8.,   9.,  10.])"
            ]
          },
          "execution_count": 180,
          "metadata": {},
          "output_type": "execute_result"
        }
      ],
      "source": [
        "array[0] = 100\n",
        "dup"
      ]
    },
    {
      "cell_type": "code",
      "execution_count": 181,
      "metadata": {
        "id": "o1iBWwNOyr3E"
      },
      "outputs": [
        {
          "name": "stdout",
          "output_type": "stream",
          "text": [
            "2594266336352\n",
            "2594266336352\n"
          ]
        }
      ],
      "source": [
        "print(id(array))\n",
        "print(id(dup))"
      ]
    },
    {
      "cell_type": "markdown",
      "metadata": {
        "id": "8L1YkuhDyr3G"
      },
      "source": [
        "Notice that the dup and array point to the same object!\n",
        "\n",
        "How would we fix this?\n",
        "\n",
        "Use the copy library, or np.array.copy\n",
        "\n",
        "IMPORTANT: Using the slicing syntax [:] doesn't always work"
      ]
    },
    {
      "cell_type": "code",
      "execution_count": 182,
      "metadata": {
        "id": "UNS2wHFhyr3H"
      },
      "outputs": [
        {
          "name": "stdout",
          "output_type": "stream",
          "text": [
            "2594231783712\n",
            "2594231783632\n"
          ]
        },
        {
          "data": {
            "text/plain": [
              "array([100.,   2.,   3.,   4.,   5.,   6.,   7.,   8.,   9.,  10.])"
            ]
          },
          "execution_count": 182,
          "metadata": {},
          "output_type": "execute_result"
        }
      ],
      "source": [
        "#slicing\n",
        "array = np.linspace(1, 10, 10)\n",
        "dup = array[:]\n",
        "print(id(array))\n",
        "print(id(dup))\n",
        "array[0] = 100\n",
        "dup"
      ]
    },
    {
      "cell_type": "code",
      "execution_count": 183,
      "metadata": {
        "id": "Miu1W4elyr3J"
      },
      "outputs": [
        {
          "name": "stdout",
          "output_type": "stream",
          "text": [
            "2594231784352\n",
            "2594231783712\n"
          ]
        },
        {
          "data": {
            "text/plain": [
              "array([ 1.,  2.,  3.,  4.,  5.,  6.,  7.,  8.,  9., 10.])"
            ]
          },
          "execution_count": 183,
          "metadata": {},
          "output_type": "execute_result"
        }
      ],
      "source": [
        "#using copy\n",
        "import copy\n",
        "array = np.linspace(1, 10, 10)\n",
        "dup = copy.copy(array)\n",
        "print(id(array))\n",
        "print(id(dup))\n",
        "array[0] = 100\n",
        "dup"
      ]
    },
    {
      "cell_type": "code",
      "execution_count": 184,
      "metadata": {
        "id": "Z6pAxyF3yr3M"
      },
      "outputs": [
        {
          "name": "stdout",
          "output_type": "stream",
          "text": [
            "2594231784752\n",
            "2594266072608\n"
          ]
        },
        {
          "data": {
            "text/plain": [
              "array([ 1.,  2.,  3.,  4.,  5.,  6.,  7.,  8.,  9., 10.])"
            ]
          },
          "execution_count": 184,
          "metadata": {},
          "output_type": "execute_result"
        }
      ],
      "source": [
        "#using deep copy\n",
        "import copy\n",
        "array = np.linspace(1, 10, 10)\n",
        "dup = copy.deepcopy(array)\n",
        "print(id(array))\n",
        "print(id(dup))\n",
        "array[0] = 100\n",
        "dup"
      ]
    },
    {
      "cell_type": "markdown",
      "metadata": {
        "id": "ju_5Fwk5yr3O"
      },
      "source": [
        "Beware of copy vs. deepcopy!\n",
        "\n",
        "https://docs.python.org/2/library/copy.html\n",
        "<img src=\"shallow_copy.png\">\n",
        "<img src=\"deep_copy.png\">"
      ]
    },
    {
      "cell_type": "code",
      "execution_count": 185,
      "metadata": {
        "id": "BZxkhZltyr3O"
      },
      "outputs": [
        {
          "name": "stdout",
          "output_type": "stream",
          "text": [
            "2594231784992\n",
            "2594266337152\n"
          ]
        },
        {
          "data": {
            "text/plain": [
              "array([ 1.,  2.,  3.,  4.,  5.,  6.,  7.,  8.,  9., 10.])"
            ]
          },
          "execution_count": 185,
          "metadata": {},
          "output_type": "execute_result"
        }
      ],
      "source": [
        "#numpy arrays also have a builtin copy function\n",
        "array = np.linspace(1, 10, 10)\n",
        "dup = array.copy()\n",
        "print(id(array))\n",
        "print(id(dup))\n",
        "array[0] = 100\n",
        "dup"
      ]
    },
    {
      "cell_type": "markdown",
      "metadata": {
        "id": "uYoEKYilyr3T"
      },
      "source": [
        "#### Let's try it with multidimensional arrays"
      ]
    },
    {
      "cell_type": "markdown",
      "metadata": {
        "id": "jQITuV4Wyr3U"
      },
      "source": [
        "Copy works!"
      ]
    },
    {
      "cell_type": "code",
      "execution_count": 186,
      "metadata": {
        "id": "XiZ0C7HJyr3U"
      },
      "outputs": [
        {
          "name": "stdout",
          "output_type": "stream",
          "text": [
            "[[0. 1. 2.]\n",
            " [3. 4. 5.]\n",
            " [6. 7. 8.]]\n",
            "[[0. 0. 0.]\n",
            " [3. 4. 5.]\n",
            " [6. 7. 8.]]\n",
            "[[0. 1. 2.]\n",
            " [3. 4. 5.]\n",
            " [6. 7. 8.]]\n"
          ]
        }
      ],
      "source": [
        "import copy\n",
        "array = np.array(range(9)).reshape(3,3)\n",
        "array = np.zeros((3,3))\n",
        "array0 = [0,1,2]; array[0] = array0\n",
        "array1 = [3,4,5]; array[1] = array1\n",
        "array2 = [6,7,8]; array[2] = array2\n",
        "print(array)\n",
        "\n",
        "dup = copy.copy(array)\n",
        "array[0] = [0,0,0]\n",
        "\n",
        "print(array)\n",
        "print(dup)\n"
      ]
    },
    {
      "cell_type": "markdown",
      "metadata": {
        "id": "W2iyuEl7yr3W"
      },
      "source": [
        "Numpy's native copy works!"
      ]
    },
    {
      "cell_type": "code",
      "execution_count": 187,
      "metadata": {
        "id": "OP8d04quyr3X"
      },
      "outputs": [
        {
          "name": "stdout",
          "output_type": "stream",
          "text": [
            "[[0 1 2]\n",
            " [3 4 5]\n",
            " [6 7 8]]\n",
            "[[0 0 0]\n",
            " [3 4 5]\n",
            " [6 7 8]]\n",
            "[[0 1 2]\n",
            " [3 4 5]\n",
            " [6 7 8]]\n"
          ]
        }
      ],
      "source": [
        "array = np.array(range(9)).reshape(3,3)\n",
        "print(array)\n",
        "\n",
        "dup = array.copy()\n",
        "array[0] = [0,0,0]\n",
        "\n",
        "print(array)\n",
        "print(dup)\n"
      ]
    },
    {
      "cell_type": "markdown",
      "metadata": {
        "id": "QD4Ymp0vULVP"
      },
      "source": [
        "### Sorting\n"
      ]
    },
    {
      "cell_type": "code",
      "execution_count": 188,
      "metadata": {
        "id": "rQmZF6GsULVP"
      },
      "outputs": [
        {
          "name": "stdout",
          "output_type": "stream",
          "text": [
            "array = \n",
            " [0.70132133 0.04386867 0.28412567 0.68242666 0.59162708 0.17806795\n",
            " 0.64326294 0.28886062 0.45005898 0.36547602]\n",
            "increasing sort = \n",
            " [0.04386867 0.17806795 0.28412567 0.28886062 0.36547602 0.45005898\n",
            " 0.59162708 0.64326294 0.68242666 0.70132133]\n",
            "decreasing sort = \n",
            " [0.70132133 0.68242666 0.64326294 0.59162708 0.45005898 0.36547602\n",
            " 0.28886062 0.28412567 0.17806795 0.04386867]\n",
            "decreasing sort = \n",
            " [0.70132133 0.68242666 0.64326294 0.59162708 0.45005898 0.36547602\n",
            " 0.28886062 0.28412567 0.17806795 0.04386867]\n",
            "\n",
            "decreasing sorted indices = \n",
            " [0 3 6 4 8 9 7 2 5 1]\n",
            "top 3 = \n",
            " [0.70132133 0.68242666 0.64326294]\n"
          ]
        }
      ],
      "source": [
        "array = np.random.random(10)\n",
        "print(\"array = \\n\", array)\n",
        "print(\"increasing sort = \\n\", np.sort(array))\n",
        "print(\"decreasing sort = \\n\", np.sort(array)[::-1])\n",
        "print(\"decreasing sort = \\n\", -np.sort(-array))\n",
        "\n",
        "\n",
        "print(\"\\ndecreasing sorted indices = \\n\", np.argsort(array)[::-1])\n",
        "print(\"top 3 = \\n\", array[np.argsort(array)[::-1][:3]])\n"
      ]
    },
    {
      "cell_type": "markdown",
      "metadata": {
        "id": "GpBcH_Z-ULUm"
      },
      "source": [
        "### Reshaping"
      ]
    },
    {
      "cell_type": "code",
      "execution_count": 189,
      "metadata": {
        "id": "48JX7pR2ULUn"
      },
      "outputs": [
        {
          "name": "stdout",
          "output_type": "stream",
          "text": [
            "[ 1.   3.2  5.4  7.6  9.8 12. ]\n"
          ]
        },
        {
          "data": {
            "text/plain": [
              "array([[ 1. ,  3.2],\n",
              "       [ 5.4,  7.6],\n",
              "       [ 9.8, 12. ]])"
            ]
          },
          "execution_count": 189,
          "metadata": {},
          "output_type": "execute_result"
        }
      ],
      "source": [
        "#when your reshape, by default you fill the new array by rows\n",
        "x = np.linspace(1, 12, 6)\n",
        "print(x)\n",
        "x2 = x.reshape((3,2)) #does not reshape in place!\n",
        "x2"
      ]
    },
    {
      "cell_type": "markdown",
      "metadata": {
        "id": "vPiPct5QULUM"
      },
      "source": [
        "### Broadcasting\n",
        "The term broadcasting refers to how numpy treats doing arithmetic operations on arrays of different shapes.\n",
        "When operating on two arrays, NumPy compares their shapes element-wise. Two dimensions are compatible when\n",
        "* they are equal, or\n",
        "* one of them is 1\n",
        "\n",
        "If the dimensional are different, but one of them is 1, then numpy will apply the operation to each column on that axis\n",
        "\n",
        "Check out the documentation for more details: https://numpy.org/doc/stable/user/basics.broadcasting.html"
      ]
    },
    {
      "cell_type": "markdown",
      "metadata": {
        "id": "jRigIqHHWold"
      },
      "source": [
        "Broadcasting with scalars is pretty intuitive:"
      ]
    },
    {
      "cell_type": "code",
      "execution_count": 190,
      "metadata": {
        "id": "-KNNpUolWq78"
      },
      "outputs": [
        {
          "name": "stdout",
          "output_type": "stream",
          "text": [
            "x =  (1, 3) array:\n",
            " [[0 1 2]]\n",
            "x+1 =  (1, 3) array:\n",
            " [[1 2 3]]\n",
            "\n",
            "\n",
            "y =  (3, 3) array:\n",
            " [[0 1 2]\n",
            " [3 4 5]\n",
            " [6 7 8]]\n",
            "y+1 =  (3, 3) array:\n",
            " [[1 2 3]\n",
            " [4 5 6]\n",
            " [7 8 9]]\n"
          ]
        }
      ],
      "source": [
        "x = np.array([[0,1,2]])\n",
        "print(\"x = \", x.shape, \"array:\\n\", x)\n",
        "print(\"x+1 = \", (x+1).shape, \"array:\\n\", x+1)\n",
        "\n",
        "y = np.array(range(9)).reshape(3,3)\n",
        "print(\"\\n\\ny = \", y.shape, \"array:\\n\", y)\n",
        "print(\"y+1 = \", (y+1).shape, \"array:\\n\", y+1)\n"
      ]
    },
    {
      "cell_type": "markdown",
      "metadata": {
        "id": "6lxdZ5heghkS"
      },
      "source": [
        "Broadcasting with scalars is really useful for normalization!"
      ]
    },
    {
      "cell_type": "code",
      "execution_count": 191,
      "metadata": {
        "id": "q3Ph9PuqglQv"
      },
      "outputs": [
        {
          "name": "stdout",
          "output_type": "stream",
          "text": [
            "np.mean(x) =  0.5079362442244004 or x.mean() =  0.5079362442244004\n",
            "np.std(x) =  0.28859170376496623 or x.std() =  0.28859170376496623\n",
            "\n",
            "zero_mean_x.mean() =  8.43769498715119e-17\n",
            "\n",
            "one_std_x.std() =  1.0\n",
            "\n",
            "normalized_x.mean() =  3.064215547965432e-16\n",
            "normalized_x.std() =  1.0\n"
          ]
        }
      ],
      "source": [
        "x = np.random.rand(20,20)\n",
        "#print(\"x = \", x.shape, \"array:\\n\", x)\n",
        "print(\"np.mean(x) = \", np.mean(x), \"or x.mean() = \", x.mean())\n",
        "print(\"np.std(x) = \", np.std(x), \"or x.std() = \", x.std())\n",
        "\n",
        "zero_mean_x = x - x.mean()\n",
        "print(\"\\nzero_mean_x.mean() = \", zero_mean_x.mean())\n",
        "\n",
        "one_std_x = x/x.std()\n",
        "print(\"\\none_std_x.std() = \", one_std_x.std())\n",
        "\n",
        "normalized_x = (x - x.mean())/x.std()\n",
        "print(\"\\nnormalized_x.mean() = \", normalized_x.mean())\n",
        "print(\"normalized_x.std() = \", normalized_x.std())"
      ]
    },
    {
      "cell_type": "markdown",
      "metadata": {
        "id": "TpVpm53MXJGA"
      },
      "source": [
        "You can also broadcast with vectors! We'll try a column vector first:"
      ]
    },
    {
      "cell_type": "code",
      "execution_count": 192,
      "metadata": {
        "id": "QMHJJz0pVtU3"
      },
      "outputs": [
        {
          "name": "stdout",
          "output_type": "stream",
          "text": [
            "x =  (3, 3) array:\n",
            " [[0 1 2]\n",
            " [3 4 5]\n",
            " [6 7 8]]\n",
            "y =  (3, 1) array:\n",
            " [[0]\n",
            " [1]\n",
            " [2]]\n",
            "x+y = ???\n"
          ]
        }
      ],
      "source": [
        "x = np.array([range(9)]).reshape(3,3)\n",
        "print(\"x = \", x.shape, \"array:\\n\", x)\n",
        "\n",
        "y = np.array([range(3)]).reshape(3,1)\n",
        "print(\"y = \", y.shape, \"array:\\n\", y)\n",
        "\n",
        "print(\"x+y = ???\")\n"
      ]
    },
    {
      "cell_type": "code",
      "execution_count": 193,
      "metadata": {
        "id": "HOcO_HP8WZhy"
      },
      "outputs": [
        {
          "name": "stdout",
          "output_type": "stream",
          "text": [
            "x+y = \n",
            " [[ 0  1  2]\n",
            " [ 4  5  6]\n",
            " [ 8  9 10]]\n",
            "diff = (x+y) - x = \n",
            " [[0 0 0]\n",
            " [1 1 1]\n",
            " [2 2 2]]\n"
          ]
        }
      ],
      "source": [
        "print(\"x+y = \\n\", x+y)\n",
        "print(\"diff = (x+y) - x = \\n\", (x+y) - x)"
      ]
    },
    {
      "cell_type": "markdown",
      "metadata": {
        "id": "-iVEaziUY0Tz"
      },
      "source": [
        "Now let's broadcast with a row vector"
      ]
    },
    {
      "cell_type": "code",
      "execution_count": 194,
      "metadata": {
        "id": "geR8uwl4WVwj"
      },
      "outputs": [
        {
          "name": "stdout",
          "output_type": "stream",
          "text": [
            "x =  (3, 3) array:\n",
            " [[0 1 2]\n",
            " [3 4 5]\n",
            " [6 7 8]]\n",
            "z =  (1, 3) array:\n",
            " [[0 1 2]]\n",
            "x+z = ???\n"
          ]
        }
      ],
      "source": [
        "x = np.array([range(9)]).reshape(3,3)\n",
        "print(\"x = \", x.shape, \"array:\\n\", x)\n",
        "\n",
        "z = np.array([range(3)]).reshape(1,3)\n",
        "print(\"z = \", z.shape, \"array:\\n\", z)\n",
        "\n",
        "print(\"x+z = ???\")\n"
      ]
    },
    {
      "cell_type": "code",
      "execution_count": 195,
      "metadata": {
        "id": "nKmz5iTBWf1_"
      },
      "outputs": [
        {
          "name": "stdout",
          "output_type": "stream",
          "text": [
            "x+z = \n",
            " [[ 0  2  4]\n",
            " [ 3  5  7]\n",
            " [ 6  8 10]]\n",
            "diff = (x+z) - x = \n",
            " [[0 1 2]\n",
            " [0 1 2]\n",
            " [0 1 2]]\n"
          ]
        }
      ],
      "source": [
        "print(\"x+z = \\n\", x+z)\n",
        "print(\"diff = (x+z) - x = \\n\", (x+z) - x)"
      ]
    },
    {
      "cell_type": "markdown",
      "metadata": {
        "id": "GdDwNXxsXdFr"
      },
      "source": [
        "Watch out for one dimensional arrays! They'll broadcast like row vectors"
      ]
    },
    {
      "cell_type": "code",
      "execution_count": 196,
      "metadata": {
        "id": "qolj7lFXXcDn"
      },
      "outputs": [
        {
          "name": "stdout",
          "output_type": "stream",
          "text": [
            "x =  (4, 3) array:\n",
            " [[ 0  1  2]\n",
            " [ 3  4  5]\n",
            " [ 6  7  8]\n",
            " [ 9 10 11]]\n",
            "y =  (3,) array:\n",
            " [0 1 2]\n",
            "z =  (4, 1) array:\n",
            " [[0]\n",
            " [1]\n",
            " [2]\n",
            " [3]]\n",
            "x+y = ???\n",
            "x+z = ???\n"
          ]
        }
      ],
      "source": [
        "x = np.array([range(12)]).reshape(4,3)\n",
        "print(\"x = \", x.shape, \"array:\\n\", x)\n",
        "\n",
        "y = np.array([0,1,2])\n",
        "print(\"y = \", y.shape, \"array:\\n\", y)\n",
        "\n",
        "z = np.array([0,1,2,3]).reshape(4,1)\n",
        "print(\"z = \", z.shape, \"array:\\n\", z)\n",
        "\n",
        "print(\"x+y = ???\")\n",
        "\n",
        "print(\"x+z = ???\")"
      ]
    },
    {
      "cell_type": "markdown",
      "metadata": {
        "id": "0r6uQIlSYWOc"
      },
      "source": [
        "Notice that x - (x+y) is not the same as just y because of broadcasting!"
      ]
    },
    {
      "cell_type": "code",
      "execution_count": 197,
      "metadata": {
        "id": "c2xw11N5X7gw"
      },
      "outputs": [
        {
          "name": "stdout",
          "output_type": "stream",
          "text": [
            "x+y = \n",
            " [[ 0  2  4]\n",
            " [ 3  5  7]\n",
            " [ 6  8 10]\n",
            " [ 9 11 13]]\n",
            "diff = (x+y) - x = \n",
            " [[0 1 2]\n",
            " [0 1 2]\n",
            " [0 1 2]\n",
            " [0 1 2]]\n"
          ]
        }
      ],
      "source": [
        "print(\"x+y = \\n\", x+y)\n",
        "print(\"diff = (x+y) - x = \\n\", (x+y) - x)"
      ]
    },
    {
      "cell_type": "code",
      "execution_count": 198,
      "metadata": {
        "id": "mjTxKULIX87s"
      },
      "outputs": [
        {
          "name": "stdout",
          "output_type": "stream",
          "text": [
            "x+z = \n",
            " [[ 0  1  2]\n",
            " [ 4  5  6]\n",
            " [ 8  9 10]\n",
            " [12 13 14]]\n",
            "diff = (x+z) - x = \n",
            " [[0 0 0]\n",
            " [1 1 1]\n",
            " [2 2 2]\n",
            " [3 3 3]]\n"
          ]
        }
      ],
      "source": [
        "print(\"x+z = \\n\", x+z)\n",
        "print(\"diff = (x+z) - x = \\n\", (x+z) - x)"
      ]
    },
    {
      "cell_type": "markdown",
      "metadata": {
        "id": "-OQ0UQZAaEE3"
      },
      "source": [
        "Broadcasting can also produce a different shape than either input:"
      ]
    },
    {
      "cell_type": "code",
      "execution_count": 199,
      "metadata": {
        "id": "sJZPSQymaN0h"
      },
      "outputs": [
        {
          "name": "stdout",
          "output_type": "stream",
          "text": [
            "x =  (1, 3) array:\n",
            " [[1 2 3]]\n",
            "y =  (1, 3) array:\n",
            " [[4 5 6]]\n",
            "y.T =  (3, 1) array:\n",
            " [[4]\n",
            " [5]\n",
            " [6]]\n",
            "x*y.T = ???\n"
          ]
        }
      ],
      "source": [
        "x = np.array([[1,2,3]])\n",
        "print(\"x = \", x.shape, \"array:\\n\", x)\n",
        "\n",
        "y = np.array([[4,5,6]])\n",
        "print(\"y = \", y.shape, \"array:\\n\", y)\n",
        "print(\"y.T = \", y.T.shape, \"array:\\n\", y.T)\n",
        "\n",
        "print(\"x*y.T = ???\")\n"
      ]
    },
    {
      "cell_type": "code",
      "execution_count": 200,
      "metadata": {
        "id": "fgLQwXYgasRC"
      },
      "outputs": [
        {
          "name": "stdout",
          "output_type": "stream",
          "text": [
            "x*y.T = \n",
            " [[ 4  8 12]\n",
            " [ 5 10 15]\n",
            " [ 6 12 18]]\n"
          ]
        }
      ],
      "source": [
        "print(\"x*y.T = \\n\", x*(y.T))\n"
      ]
    },
    {
      "cell_type": "code",
      "execution_count": 201,
      "metadata": {
        "id": "u_-w2olJ9LFv"
      },
      "outputs": [
        {
          "data": {
            "text/plain": [
              "array([[ 4,  8, 12],\n",
              "       [ 5, 10, 15],\n",
              "       [ 6, 12, 18]])"
            ]
          },
          "execution_count": 201,
          "metadata": {},
          "output_type": "execute_result"
        }
      ],
      "source": [
        "y.T * x"
      ]
    },
    {
      "cell_type": "markdown",
      "metadata": {
        "id": "_bR-Vf-Dbv_-"
      },
      "source": [
        "We can also use 1 dimensional arrays for outer products, since they *mostly* act as row vectors"
      ]
    },
    {
      "cell_type": "code",
      "execution_count": 202,
      "metadata": {
        "id": "OQF2hVuSbI7v"
      },
      "outputs": [
        {
          "name": "stdout",
          "output_type": "stream",
          "text": [
            "x =  (3,) array:\n",
            " [1 2 3]\n",
            "y =  (3, 1) array:\n",
            " [[4]\n",
            " [5]\n",
            " [6]]\n",
            "x*y = ???\n"
          ]
        }
      ],
      "source": [
        "x = np.array([1,2,3])\n",
        "print(\"x = \", x.shape, \"array:\\n\", x)\n",
        "\n",
        "y = np.array([[4,5,6]]).T\n",
        "print(\"y = \", y.shape, \"array:\\n\", y)\n",
        "\n",
        "print(\"x*y = ???\")"
      ]
    },
    {
      "cell_type": "code",
      "execution_count": 203,
      "metadata": {
        "id": "fmF5-8zObq4b"
      },
      "outputs": [
        {
          "data": {
            "text/plain": [
              "array([[ 4,  8, 12],\n",
              "       [ 5, 10, 15],\n",
              "       [ 6, 12, 18]])"
            ]
          },
          "execution_count": 203,
          "metadata": {},
          "output_type": "execute_result"
        }
      ],
      "source": [
        "x*y"
      ]
    },
    {
      "cell_type": "code",
      "execution_count": 204,
      "metadata": {
        "id": "N4-E07DjcAsn"
      },
      "outputs": [
        {
          "name": "stdout",
          "output_type": "stream",
          "text": [
            "x =  (3,) array:\n",
            " [1 2 3]\n",
            "y =  (1, 3) array:\n",
            " [[4 5 6]]\n",
            "x*y = ???\n"
          ]
        }
      ],
      "source": [
        "x = np.array([1,2,3])\n",
        "print(\"x = \", x.shape, \"array:\\n\", x)\n",
        "\n",
        "y = np.array([[4,5,6]])\n",
        "print(\"y = \", y.shape, \"array:\\n\", y)\n",
        "\n",
        "print(\"x*y = ???\")"
      ]
    },
    {
      "cell_type": "code",
      "execution_count": 205,
      "metadata": {
        "id": "ad2EGA94cHdX"
      },
      "outputs": [
        {
          "data": {
            "text/plain": [
              "array([[ 4, 10, 18]])"
            ]
          },
          "execution_count": 205,
          "metadata": {},
          "output_type": "execute_result"
        }
      ],
      "source": [
        "x*y"
      ]
    },
    {
      "cell_type": "markdown",
      "metadata": {
        "id": "chOw21wLULUR"
      },
      "source": [
        "### Real world example of why broadcasting is useful"
      ]
    },
    {
      "cell_type": "code",
      "execution_count": 206,
      "metadata": {
        "id": "x720NmmsULUS"
      },
      "outputs": [
        {
          "data": {
            "text/plain": [
              "array([[6.20377486, 1.37620983, 8.64166928, 5.84165894, 7.1663131 ],\n",
              "       [4.36029185, 7.22073382, 7.43691003, 8.35562851, 2.51471379],\n",
              "       [7.06219187, 4.58474634, 6.99725244, 6.1012808 , 3.1961271 ],\n",
              "       [1.24903704, 9.61411046, 0.95246858, 8.94086576, 6.70568853]])"
            ]
          },
          "execution_count": 206,
          "metadata": {},
          "output_type": "execute_result"
        }
      ],
      "source": [
        "# Suppose we have a matrix where we want to normalize the rows to have mean zero\n",
        "matrix = 10*np.random.rand(4,5)\n",
        "matrix"
      ]
    },
    {
      "cell_type": "code",
      "execution_count": 207,
      "metadata": {
        "id": "EizC_LZyULUV"
      },
      "outputs": [
        {
          "data": {
            "text/plain": [
              "array([[5.8459252 ],\n",
              "       [5.9776556 ],\n",
              "       [5.58831971],\n",
              "       [5.49243407]])"
            ]
          },
          "execution_count": 207,
          "metadata": {},
          "output_type": "execute_result"
        }
      ],
      "source": [
        "row_means = matrix.mean(axis = 1).reshape((4,1))\n",
        "row_means"
      ]
    },
    {
      "cell_type": "code",
      "execution_count": 208,
      "metadata": {
        "id": "HCwAt_dzULUX"
      },
      "outputs": [
        {
          "name": "stdout",
          "output_type": "stream",
          "text": [
            "matrix_zero_mean = \n",
            " [[ 3.57849661e-01 -4.46971538e+00  2.79574407e+00 -4.26625763e-03\n",
            "   1.32038790e+00]\n",
            " [-1.61736375e+00  1.24307822e+00  1.45925443e+00  2.37797291e+00\n",
            "  -3.46294181e+00]\n",
            " [ 1.47387216e+00 -1.00357337e+00  1.40893273e+00  5.12961090e-01\n",
            "  -2.39219261e+00]\n",
            " [-4.24339703e+00  4.12167639e+00 -4.53996549e+00  3.44843169e+00\n",
            "   1.21325445e+00]]\n",
            "matrix_zero_mean.mean(axis=1) = \n",
            " [ 3.55271368e-16 -5.32907052e-16 -2.66453526e-16  1.77635684e-16]\n"
          ]
        }
      ],
      "source": [
        "matrix_zero_mean = matrix - row_means\n",
        "print(\"matrix_zero_mean = \\n\", matrix_zero_mean)\n",
        "print(\"matrix_zero_mean.mean(axis=1) = \\n\", matrix_zero_mean.mean(axis = 1))"
      ]
    },
    {
      "cell_type": "code",
      "execution_count": 209,
      "metadata": {
        "id": "b3xq3EtGAJO8"
      },
      "outputs": [],
      "source": [
        "arr = np.random.rand(10,10,3) #3d image\n",
        "n_dim = 3\n",
        "[arr[:,:,i] for i in range(n_dim)]\n",
        "arr2 = np.concatenate([arr[:,:,0], arr[:,:,1],arr[:,:,2]], axis=0)"
      ]
    },
    {
      "cell_type": "markdown",
      "metadata": {
        "id": "5ebko2h8ULUZ"
      },
      "source": [
        "### Using boolean masks\n",
        "In numpy, when you compare two arrays, you get a boolean mask as the output.  You can then use this boolean mask to grab specific values in an array."
      ]
    },
    {
      "cell_type": "code",
      "execution_count": 210,
      "metadata": {
        "id": "SAzCJgRrULUb"
      },
      "outputs": [
        {
          "name": "stdout",
          "output_type": "stream",
          "text": [
            "array =  (4, 5) int32 array: \n",
            " [[ 0  1  2  3  4]\n",
            " [ 5  6  7  8  9]\n",
            " [10 11 12 13 14]\n",
            " [15 16 17 18 19]]\n",
            "array > 10 =  (4, 5) bool array: \n",
            " [[False False False False False]\n",
            " [False False False False False]\n",
            " [False  True  True  True  True]\n",
            " [ True  True  True  True  True]]\n"
          ]
        }
      ],
      "source": [
        "array = np.array(range(20)).reshape((4,5))\n",
        "print(\"array = \", array.shape, array.dtype, \"array: \\n\", array)\n",
        "\n",
        "filtered = array > 10\n",
        "print(\"array > 10 = \", filtered.shape, filtered.dtype, \"array: \\n\", filtered)"
      ]
    },
    {
      "cell_type": "markdown",
      "metadata": {
        "id": "qKLuivj5dZsp"
      },
      "source": [
        "You can retrieve values in the array based on this mask!"
      ]
    },
    {
      "cell_type": "code",
      "execution_count": 211,
      "metadata": {
        "id": "1a-vL0OrULUd"
      },
      "outputs": [
        {
          "name": "stdout",
          "output_type": "stream",
          "text": [
            "array[filtered] =  (9,) int32 array: \n",
            " [11 12 13 14 15 16 17 18 19]\n"
          ]
        }
      ],
      "source": [
        "selected = array[filtered]\n",
        "print(\"array[filtered] = \", selected.shape, selected.dtype, \"array: \\n\", selected)"
      ]
    },
    {
      "cell_type": "markdown",
      "metadata": {
        "id": "-gXD3WMed7Mc"
      },
      "source": [
        "Or you can combine multiple boolean statements"
      ]
    },
    {
      "cell_type": "code",
      "execution_count": 212,
      "metadata": {
        "id": "zQjal2rBULUf"
      },
      "outputs": [
        {
          "name": "stdout",
          "output_type": "stream",
          "text": [
            "mask =  (4, 5) bool array: \n",
            " [[ True  True  True  True  True]\n",
            " [False False False False False]\n",
            " [False False False False False]\n",
            " [False  True  True  True  True]]\n",
            "selected =  (9,) int32 array: \n",
            " [ 0  1  2  3  4 16 17 18 19]\n"
          ]
        }
      ],
      "source": [
        "#you can combine boolean statements for more complicated operations\n",
        "mask = (array < 5) | (array > 15)\n",
        "print(\"mask = \", mask.shape, mask.dtype, \"array: \\n\", mask)\n",
        "\n",
        "selected = array[mask]\n",
        "print(\"selected = \", selected.shape, selected.dtype, \"array: \\n\", selected)"
      ]
    },
    {
      "cell_type": "code",
      "execution_count": 213,
      "metadata": {
        "id": "Jzn1sYN0CPJQ"
      },
      "outputs": [
        {
          "data": {
            "text/plain": [
              "False"
            ]
          },
          "execution_count": 213,
          "metadata": {},
          "output_type": "execute_result"
        }
      ],
      "source": [
        "(array < 5).all() or (array > 15).all()\n",
        "# np.all tests wheather all array elements along with given axis evaluatet to True. "
      ]
    },
    {
      "cell_type": "markdown",
      "metadata": {
        "id": "zO_SLIq2efKJ"
      },
      "source": [
        "Can you select the elements of array that are multiples of 5 but greater than (exclusive) 5?"
      ]
    },
    {
      "cell_type": "code",
      "execution_count": 214,
      "metadata": {
        "id": "LCtD1gnNen2R"
      },
      "outputs": [
        {
          "name": "stdout",
          "output_type": "stream",
          "text": [
            "mask =  (4, 5) bool array: \n",
            " [[False False False False False]\n",
            " [False False False False False]\n",
            " [False False False False False]\n",
            " [False False False False False]]\n",
            "selected =  (0,) int32 array: \n",
            " []\n"
          ]
        }
      ],
      "source": [
        "mask = np.zeros_like(array, dtype=bool)\n",
        "print(\"mask = \", mask.shape, mask.dtype, \"array: \\n\", mask)\n",
        "\n",
        "selected = array[mask]\n",
        "print(\"selected = \", selected.shape, selected.dtype, \"array: \\n\", selected)"
      ]
    },
    {
      "cell_type": "code",
      "execution_count": 215,
      "metadata": {},
      "outputs": [
        {
          "name": "stdout",
          "output_type": "stream",
          "text": [
            "mask =  (4, 5) bool array: \n",
            " [[False False False False False]\n",
            " [False False False False False]\n",
            " [ True False False False False]\n",
            " [ True False False False False]]\n",
            "selected =  (2,) (2,) int32 array: \n",
            " [10 15]\n"
          ]
        }
      ],
      "source": [
        "# solution\n",
        "mask = (array > 5) & (array % 5 == 0)\n",
        "print(\"mask = \", mask.shape, mask.dtype, \"array: \\n\", mask)\n",
        "\n",
        "selected = array[mask]\n",
        "print(\"selected = \", selected.shape, selected.shape, selected.dtype, \"array: \\n\", selected)"
      ]
    },
    {
      "cell_type": "markdown",
      "metadata": {
        "id": "R8fqkbOZe5id"
      },
      "source": [
        "You can use selected elements from this boolean mask to change the original array. Try to take the multiples of 5 greater than 5 and multiply them by 10"
      ]
    },
    {
      "cell_type": "code",
      "execution_count": 216,
      "metadata": {
        "id": "i3TkzlTrfiZ_"
      },
      "outputs": [
        {
          "name": "stdout",
          "output_type": "stream",
          "text": [
            "mask =  (4, 5) bool array: \n",
            " [[False False False False False]\n",
            " [False False False False False]\n",
            " [False False False False False]\n",
            " [False False False False False]]\n",
            "new_array =  (4, 5) int32 array: \n",
            " [[ 0  1  2  3  4]\n",
            " [ 5  6  7  8  9]\n",
            " [10 11 12 13 14]\n",
            " [15 16 17 18 19]]\n",
            "selected =  (0,) int32 array: \n",
            " []\n"
          ]
        }
      ],
      "source": [
        "#you can combine boolean statements for more complicated operations\n",
        "mask = np.zeros_like(array, dtype=bool)\n",
        "print(\"mask = \", mask.shape, mask.dtype, \"array: \\n\", mask)\n",
        "\n",
        "new_array = np.copy(array)\n",
        "print(\"new_array = \", new_array.shape, new_array.dtype, \"array: \\n\", new_array)\n",
        "\n",
        "selected = new_array[mask]\n",
        "print(\"selected = \", selected.shape, selected.dtype, \"array: \\n\", selected)\n"
      ]
    },
    {
      "cell_type": "markdown",
      "metadata": {
        "id": "m3aJ-xeik3TO"
      },
      "source": [
        "We can do similar operations with np.where()!\n",
        "https://numpy.org/doc/stable/reference/generated/numpy.where.html\n",
        "\n",
        "Let's try to also select the elements greater than 5"
      ]
    },
    {
      "cell_type": "code",
      "execution_count": 217,
      "metadata": {
        "id": "UJDT_IHameuM"
      },
      "outputs": [
        {
          "name": "stdout",
          "output_type": "stream",
          "text": [
            "array =  (4, 5) int32 array: \n",
            " [[ 0  1  2  3  4]\n",
            " [ 5  6  7  8  9]\n",
            " [10 11 12 13 14]\n",
            " [15 16 17 18 19]]\n",
            "indices =  <class 'tuple'> length  2\n",
            "indices[0] =  (14,) int64 array: \n",
            " [1 1 1 1 2 2 2 2 2 3 3 3 3 3]\n",
            "indices[1] =  (14,) int64 array: \n",
            " [1 2 3 4 0 1 2 3 4 0 1 2 3 4]\n",
            "selected =  (14,) int32 array: \n",
            " [ 6  7  8  9 10 11 12 13 14 15 16 17 18 19]\n"
          ]
        }
      ],
      "source": [
        "array = np.array(range(20)).reshape((4,5))\n",
        "print(\"array = \", array.shape, array.dtype, \"array: \\n\", array)\n",
        "\n",
        "\n",
        "indices = np.where(array>5)\n",
        "# print(\"indices = \\n\", indices)\n",
        "print(\"indices = \", type(indices), \"length \", len(indices))\n",
        "print(\"indices[0] = \", indices[0].shape, indices[0].dtype, \"array: \\n\", indices[0])\n",
        "print(\"indices[1] = \", indices[1].shape, indices[1].dtype, \"array: \\n\", indices[1])\n",
        "\n",
        "selected = array[indices]\n",
        "print(\"selected = \", selected.shape, selected.dtype, \"array: \\n\", selected)\n"
      ]
    },
    {
      "cell_type": "markdown",
      "metadata": {
        "id": "bRARonHwnDYG"
      },
      "source": [
        "np.where() with 3 arguments acts differently: you define a boolean mask with your first argument, and the second argument defines the array you copy from if the condition is true, and the third argument defines the array you copy from if the condition is false.\n",
        "\n",
        "Let's use this to round everything less than or equal to 5 to zero, and everything greater than 5 to 1!"
      ]
    },
    {
      "cell_type": "code",
      "execution_count": 218,
      "metadata": {
        "id": "v92DFBRSnovp"
      },
      "outputs": [
        {
          "name": "stdout",
          "output_type": "stream",
          "text": [
            "array =  (4, 5) int32 array: \n",
            " [[ 0  1  2  3  4]\n",
            " [ 5  6  7  8  9]\n",
            " [10 11 12 13 14]\n",
            " [15 16 17 18 19]]\n",
            "new_array =  (4, 5) int32 array: \n",
            " [[0 0 0 0 0]\n",
            " [0 0 0 0 0]\n",
            " [0 0 0 0 0]\n",
            " [0 0 0 0 0]]\n"
          ]
        }
      ],
      "source": [
        "array = np.array(range(20)).reshape((4,5))\n",
        "print(\"array = \", array.shape, array.dtype, \"array: \\n\", array)\n",
        "\n",
        "new_array = np.zeros_like(array)\n",
        "print(\"new_array = \", new_array.shape, new_array.dtype, \"array: \\n\", new_array)\n",
        "\n"
      ]
    },
    {
      "cell_type": "code",
      "execution_count": 219,
      "metadata": {},
      "outputs": [
        {
          "name": "stdout",
          "output_type": "stream",
          "text": [
            "array =  (4, 5) int32 array: \n",
            " [[ 0  1  2  3  4]\n",
            " [ 5  6  7  8  9]\n",
            " [10 11 12 13 14]\n",
            " [15 16 17 18 19]]\n",
            "new_array =  (4, 5) int32 array: \n",
            " [[0 0 0 0 0]\n",
            " [0 1 1 1 1]\n",
            " [1 1 1 1 1]\n",
            " [1 1 1 1 1]]\n"
          ]
        }
      ],
      "source": [
        "array = np.array(range(20)).reshape((4,5))\n",
        "print(\"array = \", array.shape, array.dtype, \"array: \\n\", array)\n",
        "\n",
        "new_array = np.where(array > 5, 1, 0)\n",
        "print(\"new_array = \", new_array.shape, new_array.dtype, \"array: \\n\", new_array)\n",
        "\n"
      ]
    },
    {
      "cell_type": "markdown",
      "metadata": {
        "id": "-dm8Nqv7n0Ao"
      },
      "source": [
        "We just used scalars for the 2nd and 3rd arguments, but you can also use arrays! Let's replace all elements less than or equal to 5 with their squares and replace all elements greater than 5 with -1*array"
      ]
    },
    {
      "cell_type": "code",
      "execution_count": 220,
      "metadata": {
        "id": "7jOgfoC6o-20"
      },
      "outputs": [
        {
          "name": "stdout",
          "output_type": "stream",
          "text": [
            "array =  (4, 5) int32 array: \n",
            " [[ 0  1  2  3  4]\n",
            " [ 5  6  7  8  9]\n",
            " [10 11 12 13 14]\n",
            " [15 16 17 18 19]]\n",
            "squared_array =  (4, 5) int32 array: \n",
            " [[  0   1   4   9  16]\n",
            " [ 25  36  49  64  81]\n",
            " [100 121 144 169 196]\n",
            " [225 256 289 324 361]]\n",
            "minus_array =  (4, 5) int32 array: \n",
            " [[  0  -1  -2  -3  -4]\n",
            " [ -5  -6  -7  -8  -9]\n",
            " [-10 -11 -12 -13 -14]\n",
            " [-15 -16 -17 -18 -19]]\n",
            "\n",
            "new_array =  (4, 5) int32 array: \n",
            " [[  0   1   4   9  16]\n",
            " [ 25  -6  -7  -8  -9]\n",
            " [-10 -11 -12 -13 -14]\n",
            " [-15 -16 -17 -18 -19]]\n"
          ]
        }
      ],
      "source": [
        "array = np.array(range(20)).reshape((4,5))\n",
        "print(\"array = \", array.shape, array.dtype, \"array: \\n\", array)\n",
        "squared_array = array**2\n",
        "print(\"squared_array = \", squared_array.shape, squared_array.dtype, \"array: \\n\", squared_array)\n",
        "minus_array = -1*array\n",
        "print(\"minus_array = \", minus_array.shape, minus_array.dtype, \"array: \\n\", minus_array)\n",
        "\n",
        "\n",
        "new_array = np.where(array<=5, squared_array, minus_array)\n",
        "# np.where(condition, then, else)\n",
        "print(\"\\nnew_array = \", new_array.shape, new_array.dtype, \"array: \\n\", new_array)\n",
        "\n"
      ]
    },
    {
      "cell_type": "markdown",
      "metadata": {
        "id": "7_QMubUfULVR"
      },
      "source": [
        "### Linear Algebra\n",
        "We can use the np.linalg module to do a lot of linear algebra stuff withpretty clean syntax.\n",
        "\n",
        "For example, say we wanted to solve the linear system $$ Ax = b$$."
      ]
    },
    {
      "cell_type": "code",
      "execution_count": 221,
      "metadata": {
        "id": "Y6QB0N8UULVR"
      },
      "outputs": [
        {
          "name": "stdout",
          "output_type": "stream",
          "text": [
            "solution = x = \n",
            " [[-1.]\n",
            " [ 2.]]\n",
            "Ax = \n",
            " [[1.]\n",
            " [0.]]\n",
            "b = \n",
            " [[1]\n",
            " [0]]\n"
          ]
        }
      ],
      "source": [
        "A = np.array([[1, 1], [2, 1]])\n",
        "b = np.array([[1], [0]])\n",
        "#This function takes parameters A, b, and returns x such that Ax =b. \n",
        "x = np.linalg.solve(A, b)\n",
        "print(\"solution = x = \\n\", x)  \n",
        "print(\"Ax = \\n\", np.dot(A,x))\n",
        "print(\"b = \\n\", b)            "
      ]
    },
    {
      "cell_type": "markdown",
      "metadata": {
        "id": "VC83MqVnULVS"
      },
      "source": [
        "#### How about more complicated stuff?\n",
        "Imagine trying to find a line of best fit.\n",
        "\n",
        "Linear regression finds the \"line of best fit\" by minimizing the residual sum of squares.\n",
        "\n",
        "If we have n datapoints $\\{(x_1, y_1), ... ,(x_n, y_n)\\}$, the objective function takes the form\n",
        "$$loss(X) = \\Sigma_{i = 1}^n (y_i - f(x_i))^2$$ \n",
        "where \n",
        "$$f(x_i) = \\theta_0 + \\theta_1 x_1 + ... +\\theta_n x_n$$\n",
        "\n",
        "It turns out the parameters such that the loss function is minimized are given by the closed form solution\n",
        "\n",
        "$$\\theta = (X^T X)^{-1} X^T y$$\n",
        "\n",
        "Let's see it in action!!!"
      ]
    },
    {
      "cell_type": "code",
      "execution_count": 232,
      "metadata": {},
      "outputs": [],
      "source": [
        "from matplotlib import pyplot as plt\n",
        "%matplotlib inline"
      ]
    },
    {
      "cell_type": "code",
      "execution_count": 231,
      "metadata": {
        "id": "gWRxIkqpULVT"
      },
      "outputs": [
        {
          "data": {
            "text/plain": [
              "<matplotlib.collections.PathCollection at 0x25c07703668>"
            ]
          },
          "execution_count": 231,
          "metadata": {},
          "output_type": "execute_result"
        },
        {
          "data": {
            "image/png": "[encoded data removed]",
            "text/plain": [
              "<Figure size 432x288 with 1 Axes>"
            ]
          },
          "metadata": {
            "needs_background": "light"
          },
          "output_type": "display_data"
        }
      ],
      "source": [
        "x = np.concatenate((np.linspace(1, 5, 10).reshape(10, 1), np.ones(10).reshape(10, 1)), axis = 1)\n",
        "y = x[:,0].copy() + 2*np.random.rand(10) - 0.5\n",
        "plt.scatter(x[:,0], y)"
      ]
    },
    {
      "cell_type": "code",
      "execution_count": 229,
      "metadata": {
        "id": "BlBx_7C9ULVU"
      },
      "outputs": [
        {
          "name": "stdout",
          "output_type": "stream",
          "text": [
            "[ 1.24973042 -0.15288488]\n"
          ]
        }
      ],
      "source": [
        "theta = np.linalg.lstsq(x, y, rcond=None)[0]\n",
        "print(theta)"
      ]
    },
    {
      "cell_type": "code",
      "execution_count": 233,
      "metadata": {
        "id": "xYy03q7WULVV"
      },
      "outputs": [
        {
          "data": {
            "text/plain": [
              "[<matplotlib.lines.Line2D at 0x25c07736908>]"
            ]
          },
          "execution_count": 233,
          "metadata": {},
          "output_type": "execute_result"
        },
        {
          "data": {
            "image/png": "[encoded data removed]",
            "text/plain": [
              "<Figure size 432x288 with 1 Axes>"
            ]
          },
          "metadata": {
            "needs_background": "light"
          },
          "output_type": "display_data"
        }
      ],
      "source": [
        "plt.scatter(x[:,0], y)\n",
        "plt.plot(x[:,0], x[:,0]*theta[0] + theta[1])"
      ]
    },
    {
      "cell_type": "code",
      "execution_count": 235,
      "metadata": {
        "id": "qKwi7rjhULVW"
      },
      "outputs": [
        {
          "name": "stdout",
          "output_type": "stream",
          "text": [
            "[0.95570877 0.6859523 ]\n"
          ]
        }
      ],
      "source": [
        "theta = np.linalg.inv(x.T.dot(x)).dot(x.T).dot(y)\n",
        "print(theta)"
      ]
    },
    {
      "cell_type": "markdown",
      "metadata": {
        "id": "5SsKMBYVpNZy"
      },
      "source": [
        "How does this relate to transformations? Let's try!\n",
        "\n",
        "Our slides on transformations: https://drive.google.com/file/d/1isX1q9X31akdeIJwdbP5xNqn78xzhlXb/view"
      ]
    },
    {
      "cell_type": "code",
      "execution_count": 245,
      "metadata": {
        "id": "VyuvQ2bKzwDY"
      },
      "outputs": [
        {
          "name": "stdout",
          "output_type": "stream",
          "text": [
            "x =  (10, 2) float64 array: \n",
            " [[3.70310255 6.90539305]\n",
            " [7.63490331 7.37081117]\n",
            " [5.53697631 8.8478273 ]\n",
            " [3.45879159 6.68277762]\n",
            " [4.35452221 8.15236416]\n",
            " [6.24453684 4.19756072]\n",
            " [3.37289043 4.31636511]\n",
            " [4.79140209 7.6966877 ]\n",
            " [5.18091523 5.50998709]\n",
            " [1.53738244 7.03287116]]\n",
            "x_homogeneous =  (10, 3) float64 array: \n",
            " [[3.70310255 6.90539305 1.        ]\n",
            " [7.63490331 7.37081117 1.        ]\n",
            " [5.53697631 8.8478273  1.        ]\n",
            " [3.45879159 6.68277762 1.        ]\n",
            " [4.35452221 8.15236416 1.        ]\n",
            " [6.24453684 4.19756072 1.        ]\n",
            " [3.37289043 4.31636511 1.        ]\n",
            " [4.79140209 7.6966877  1.        ]\n",
            " [5.18091523 5.50998709 1.        ]\n",
            " [1.53738244 7.03287116 1.        ]]\n",
            "\n",
            "y_noisy =  (10, 2) float64 array: \n",
            " [[10.40620511  8.81078609]\n",
            " [18.26980661  9.74162234]\n",
            " [14.07395262 12.6956546 ]\n",
            " [ 9.91758318  8.36555523]\n",
            " [11.70904443 11.30472833]\n",
            " [15.48907367  3.39512144]\n",
            " [ 9.74578086  3.63273023]\n",
            " [12.58280419 10.39337541]\n",
            " [13.36183046  6.01997418]\n",
            " [ 6.07476488  9.06574232]]\n",
            "y_noisy_homogeneous =  (10, 3) float64 array: \n",
            " [[10.40620511  8.81078609  1.        ]\n",
            " [18.26980661  9.74162234  1.        ]\n",
            " [14.07395262 12.6956546   1.        ]\n",
            " [ 9.91758318  8.36555523  1.        ]\n",
            " [11.70904443 11.30472833  1.        ]\n",
            " [15.48907367  3.39512144  1.        ]\n",
            " [ 9.74578086  3.63273023  1.        ]\n",
            " [12.58280419 10.39337541  1.        ]\n",
            " [13.36183046  6.01997418  1.        ]\n",
            " [ 6.07476488  9.06574232  1.        ]]\n",
            "\n",
            "H =  (3, 3) float64 array: \n",
            " [[ 2.00000000e+00  1.04632799e-15  6.82701087e-17]\n",
            " [-1.66533454e-15  2.00000000e+00 -1.11022302e-16]\n",
            " [ 3.00000000e+00 -5.00000000e+00  1.00000000e+00]]\n",
            "Error = np.dot(x_homogeneous,H) - y_noisy_homogeneous = \n",
            " [[-0. -0. -0.]\n",
            " [-0. -0.  0.]\n",
            " [-0. -0. -0.]\n",
            " [-0. -0. -0.]\n",
            " [-0. -0. -0.]\n",
            " [ 0. -0.  0.]\n",
            " [-0. -0.  0.]\n",
            " [-0. -0. -0.]\n",
            " [ 0. -0.  0.]\n",
            " [-0. -0. -0.]]\n"
          ]
        }
      ],
      "source": [
        "x = np.random.rand(10,2)*10\n",
        "print(\"x = \", x.shape, x.dtype, \"array: \\n\", x)\n",
        "# Homogeneous coordinates!\n",
        "x_homogeneous = np.concatenate([x, np.ones((10,1))], axis=1)\n",
        "print(\"x_homogeneous = \", x_homogeneous.shape, x_homogeneous.dtype, \"array: \\n\", x_homogeneous)\n",
        "\n",
        "translation = np.array([3, -5])\n",
        "scaling = 2\n",
        "\n",
        "y = (x * scaling) + translation\n",
        "# Add noise\n",
        "y_noisy = y + np.random.rand(10,2)*0\n",
        "print(\"\\ny_noisy = \", y_noisy.shape, y_noisy.dtype, \"array: \\n\", y_noisy)\n",
        "# Homogeneous coordinates!\n",
        "y_noisy_homogeneous = np.concatenate([y, np.ones((10,1))], axis=1)\n",
        "print(\"y_noisy_homogeneous = \", y_noisy_homogeneous.shape, y_noisy_homogeneous.dtype, \"array: \\n\", y_noisy_homogeneous)\n",
        "\n",
        "# # Fit with lstsq!\n",
        "H = np.linalg.lstsq(x_homogeneous, y_noisy_homogeneous, rcond=None)[0]\n",
        "print(\"\\nH = \", H.shape, H.dtype, \"array: \\n\", H)\n",
        "error = np.round(np.dot(x_homogeneous, H) - y_noisy_homogeneous, decimals=8)\n",
        "print(\"Error = np.dot(x_homogeneous,H) - y_noisy_homogeneous = \\n\", error)\n",
        "\n"
      ]
    },
    {
      "cell_type": "code",
      "execution_count": 252,
      "metadata": {
        "id": "vhW5ZuT00DTh"
      },
      "outputs": [
        {
          "name": "stdout",
          "output_type": "stream",
          "text": [
            "\n",
            "scaling_matrix =  (2, 2) float64 array: \n",
            " [[2. 0.]\n",
            " [0. 2.]]\n",
            "Translation_vector =  (2, 1) int32 array: \n",
            " [[ 3]\n",
            " [-5]]\n",
            "homogeneous_row =  (1, 3) int32 array: \n",
            " [[0 0 1]]\n",
            "H_theoretical =  (2, 3) float64 array: \n",
            " [[ 2.  0.  3.]\n",
            " [ 0.  2. -5.]]\n",
            "H_theoretical =  (3, 3) float64 array: \n",
            " [[ 2.  0.  3.]\n",
            " [ 0.  2. -5.]\n",
            " [ 0.  0.  1.]]\n",
            "H =  (3, 3) float64 array: \n",
            " [[ 2.  0.  0.]\n",
            " [-0.  2. -0.]\n",
            " [ 3. -5.  1.]]\n",
            "Diff = H_theoretical - H = \n",
            " [[-0. -0.  3.]\n",
            " [ 0.  0. -5.]\n",
            " [-3.  5. -0.]]\n"
          ]
        }
      ],
      "source": [
        "# Compare with theoretical H\n",
        "scaling_matrix = np.eye(2)*scaling\n",
        "translation_vector = translation.reshape(2,1)\n",
        "homogeneous_row = np.array([0,0,1]).reshape(1,3)\n",
        "print(\"\\nscaling_matrix = \", scaling_matrix.shape, scaling_matrix.dtype, \"array: \\n\", scaling_matrix)\n",
        "print(\"Translation_vector = \", translation_vector.shape, translation_vector.dtype, \"array: \\n\", translation_vector)\n",
        "print(\"homogeneous_row = \", homogeneous_row.shape, homogeneous_row.dtype, \"array: \\n\", homogeneous_row)\n",
        "\n",
        "H_theoretical = np.concatenate([scaling_matrix, translation_vector], axis=1)\n",
        "print(\"H_theoretical = \", H_theoretical.shape, H_theoretical.dtype, \"array: \\n\", H_theoretical)\n",
        "H_theoretical = np.concatenate([H_theoretical, homogeneous_row], axis=0)\n",
        "print(\"H_theoretical = \", H_theoretical.shape, H_theoretical.dtype, \"array: \\n\", H_theoretical)\n",
        "print(\"H = \", H.shape, H.dtype, \"array: \\n\", np.round(H, decimals=8))\n",
        "print(\"Diff = H_theoretical - H = \\n\", np.round(H_theoretical - H, decimals=8))"
      ]
    },
    {
      "cell_type": "markdown",
      "metadata": {
        "id": "PAeTJboHULVY"
      },
      "source": [
        "### Vectorizing equations\n",
        "In classes with CS 231N, you'll want to write your equations in matrix format because it's more effecient to run operations in parallel. Here's an example: This can be really tough, so here's an example:"
      ]
    },
    {
      "cell_type": "markdown",
      "metadata": {
        "id": "pS75MTUyULVY"
      },
      "source": [
        "Suppose we didn't know that linear regression had a closed form solution. We could also solve the problem above using gradient descent.\n",
        "\n",
        "The gradient descent update rule looks like this:\n",
        "$$\\theta_{t+1} =\\theta_t - \\alpha \\nabla_{\\theta} L(\\theta, X)$$\n",
        "\n",
        "So we need to find the gradient with respect to $\\theta$. Recall that a gradient is a vector of partial derivatives.  So let's start by finding just one partial derivative.\n",
        "\n",
        "$$\\frac{\\partial}{\\partial \\theta_j}L(\\theta, X) = \\Sigma_{i = 1}^n 2(y_i - f(x_i))(-x_i[j])$$ \n",
        "where \n",
        "$$f(x_i) = \\theta_0 + \\theta_1 x_1 + ... +\\theta_n x_n$$\n",
        "\n",
        "Now the task is to get this into matrix format! Our theta vector is $\\theta = [\\theta_0,\\theta_1] \\in R^2$. Notice that our residuals can be written as a vector, $y - f(\\theta, X) \\in R^n$.\n",
        "\n",
        "In matrix multiplication, we dot the row of the first matrix with the columns of the second matrix.  A sum (like above) can oftern be expressed as a row times a column.\n",
        "\n",
        "$$\\theta_{t+1} =\\theta_t - \\alpha X^T (y - f(X, \\theta))$$\n",
        "\n",
        "\n",
        "\n",
        "\n",
        "    "
      ]
    },
    {
      "cell_type": "markdown",
      "metadata": {
        "id": "-6cfKU6JzcEp"
      },
      "source": [
        "### In numpy\n",
        "\n",
        "np.repeat (https://numpy.org/doc/stable/reference/generated/numpy.repeat.html) and np.tile (https://numpy.org/doc/stable/reference/generated/numpy.tile.html) can be really useful for this!"
      ]
    },
    {
      "cell_type": "markdown",
      "metadata": {
        "id": "6tzq_Ea0ULUp"
      },
      "source": [
        "# Making Plots in Jupyter Notebook\n",
        "A Matplotlib figure can be categorized into several parts as below:\n",
        "    \n",
        "**Figure:** It is a whole figure which may contain one or more than one axes (plots). You can think of a Figure as a canvas which contains plots.\n",
        "\n",
        "**Axes:** It is what we generally think of as a plot. A Figure can contain many Axes. It contains two or three (in the case of 3D) Axis objects. Each Axes has a title, an x-label and a y-label.\n",
        "\n",
        "**Axis:** They are the number line like objects and take care of generating the graph limits."
      ]
    },
    {
      "cell_type": "code",
      "execution_count": 253,
      "metadata": {
        "id": "0PVEEy8aULUp"
      },
      "outputs": [],
      "source": [
        "import matplotlib.pyplot as plt"
      ]
    },
    {
      "cell_type": "code",
      "execution_count": 254,
      "metadata": {
        "id": "NHYzSqjsULUr"
      },
      "outputs": [
        {
          "name": "stdout",
          "output_type": "stream",
          "text": [
            "[ 0  1  4  9 16 25 36 49 64 81]\n"
          ]
        },
        {
          "data": {
            "image/png": "[encoded data removed]",
            "text/plain": [
              "<Figure size 432x288 with 1 Axes>"
            ]
          },
          "metadata": {
            "needs_background": "light"
          },
          "output_type": "display_data"
        }
      ],
      "source": [
        "x = np.arange(10)**2\n",
        "print(x)\n",
        "plt.plot(x)\n",
        "plt.show()"
      ]
    },
    {
      "cell_type": "code",
      "execution_count": 255,
      "metadata": {
        "id": "VTf0We61ULUt"
      },
      "outputs": [
        {
          "data": {
            "image/png": "[encoded data removed]",
            "text/plain": [
              "<Figure size 1080x1080 with 1 Axes>"
            ]
          },
          "metadata": {
            "needs_background": "light"
          },
          "output_type": "display_data"
        }
      ],
      "source": [
        "plt.figure(figsize = (15,15))\n",
        "plt.plot(x)\n",
        "plt.title(\"This is a graph\")\n",
        "plt.xlabel(\"this is the x label\")\n",
        "plt.ylabel(\"this is the y label\")\n",
        "plt.show()"
      ]
    },
    {
      "cell_type": "markdown",
      "metadata": {
        "id": "Sw-kHG0DULVY"
      },
      "source": [
        "### Additional Resources\n",
        "https://www.youtube.com/watch?v=8Mpc9ukltVA\n",
        "\n",
        "https://jakevdp.github.io/PythonDataScienceHandbook/02.01-understanding-data-types.html\n",
        "\n",
        "https://towardsdatascience.com/matplotlib-tutorial-learn-basics-of-pythons-powerful-plotting-library-b5d1b8f67596\n",
        "\n",
        "https://scipy-cookbook.readthedocs.io/items/ViewsVsCopies.html\n",
        "\n",
        "https://www.geeksforgeeks.org/copy-python-deep-copy-shallow-copy/"
      ]
    }
  ],
  "metadata": {
    "colab": {
      "collapsed_sections": [
        "tLnAtAOxULSk",
        "ygFOhKs-ULTD",
        "fM0IsjhcULTY",
        "22iFHMmfULTg",
        "6RcxIVfKULTh",
        "hcMsgi8WULTt",
        "LCkMb4yEULTz",
        "HlkYq9vFULT_",
        "J-i03DPyULUy",
        "Sw-kHG0DULVY"
      ],
      "name": "Advanced Numpy Tutorial Blank.ipynb",
      "provenance": []
    },
    "interpreter": {
      "hash": "dd978e01eec057519657a3be91acde24f223bc06262a5de510374b3bf369a736"
    },
    "kernelspec": {
      "display_name": "Python 3.6.13 ('cs131')",
      "language": "python",
      "name": "python3"
    },
    "language_info": {
      "codemirror_mode": {
        "name": "ipython",
        "version": 3
      },
      "file_extension": ".py",
      "mimetype": "text/x-python",
      "name": "python",
      "nbconvert_exporter": "python",
      "pygments_lexer": "ipython3",
      "version": "3.6.13"
    }
  },
  "nbformat": 4,
  "nbformat_minor": 0
}
